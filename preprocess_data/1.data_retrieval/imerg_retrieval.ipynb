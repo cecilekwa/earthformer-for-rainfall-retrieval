{
 "cells": [
  {
   "cell_type": "markdown",
   "id": "18a094f3-10c9-4841-8304-9c8cb5967891",
   "metadata": {},
   "source": [
    "# Import libraries"
   ]
  },
  {
   "cell_type": "code",
   "execution_count": 1,
   "id": "7043c10f-49a1-4586-89da-6687dce62c6f",
   "metadata": {
    "scrolled": true
   },
   "outputs": [],
   "source": [
    "import datetime\n",
    "import gpm\n",
    "from gpm.utils.geospatial import get_country_extent\n",
    "import os"
   ]
  },
  {
   "cell_type": "markdown",
   "id": "4c3d66d1-cd55-4084-be11-3a0282cd5fba",
   "metadata": {},
   "source": [
    "# Create an api file"
   ]
  },
  {
   "cell_type": "markdown",
   "id": "0ac4af76-9638-49f2-a527-49f7d425ef09",
   "metadata": {},
   "source": [
    "You only have to setup this once using this code. Afterwards you can load in your configurations automatically. \n",
    "\n",
    "- Your PPS account you can create here: https://registration.pps.eosdis.nasa.gov/registration/\n",
    "- Your NASA account you can create here: https://urs.earthdata.nasa.gov/"
   ]
  },
  {
   "cell_type": "code",
   "execution_count": 2,
   "id": "b9b187bd-64d6-4ba1-bab9-746e6ac65e51",
   "metadata": {},
   "outputs": [],
   "source": [
    "# username_pps = \"your_pps_username\"  # likely your mail, all in lowercase\n",
    "# password_pps = \"your_pps_password\"  # likely your mail, all in lowercase\n",
    "# username_earthdata = \"your_nasa_username\" #likely your mail, all in lowercase\n",
    "# password_earthdata = \"your_nasa_password\"\n",
    "# base_dir = r\"set/your/file_path/for/output/files\"  # where to download all GPM data to\n",
    "# gpm.define_configs(\n",
    "#     username_pps=username_pps,\n",
    "#     password_pps=password_pps,\n",
    "#     username_earthdata=username_earthdata,\n",
    "#     password_earthdata=password_earthdata,\n",
    "#     base_dir=base_dir,\n",
    "# )"
   ]
  },
  {
   "cell_type": "markdown",
   "id": "b8e06464-6736-432a-b21e-9ed2613db815",
   "metadata": {},
   "source": [
    "Loading in the configurations to check"
   ]
  },
  {
   "cell_type": "code",
   "execution_count": 3,
   "id": "4c74f77d-6179-4dc8-9ad5-c9e3ec03b0e7",
   "metadata": {},
   "outputs": [],
   "source": [
    "configs = gpm.read_configs()"
   ]
  },
  {
   "cell_type": "markdown",
   "id": "a8e582e6-7212-4e9a-95e4-582d5e105d05",
   "metadata": {},
   "source": [
    "To download data from the NASA PPS server, it’s essential to enable access to ports in the range of 64000-65000 for the servers arthurhouftps.pps.eosdis.nasa.gov and jsimpsonftps.pps.eosdis.nasa.gov. While this access is typically pre-configured, some firewall or router setups may necessitate manual permission for these ports. You can verify port accessibility with the following command:"
   ]
  },
  {
   "cell_type": "code",
   "execution_count": 4,
   "id": "f53c2e99-8d9e-4f5e-a146-56d7015185ea",
   "metadata": {},
   "outputs": [],
   "source": [
    "# from gpm.io.download import check_pps_ports_are_open\n",
    "\n",
    "# check_pps_ports_are_open()"
   ]
  },
  {
   "cell_type": "markdown",
   "id": "6aef301e-c40e-4573-8414-879bfff15667",
   "metadata": {},
   "source": [
    "# Check available products"
   ]
  },
  {
   "cell_type": "code",
   "execution_count": 5,
   "id": "a6dafbfb-7538-4a76-9112-e21f986e776b",
   "metadata": {},
   "outputs": [
    {
     "data": {
      "text/plain": [
       "['IMERG-FR']"
      ]
     },
     "execution_count": 5,
     "metadata": {},
     "output_type": "execute_result"
    }
   ],
   "source": [
    "gpm.available_products(product_categories=\"IMERG\", product_types=\"RS\")"
   ]
  },
  {
   "cell_type": "code",
   "execution_count": 6,
   "id": "8a53c2f3-a1fa-47aa-90ed-91f125b9be7c",
   "metadata": {},
   "outputs": [
    {
     "data": {
      "text/plain": [
       "['IMERG-ER', 'IMERG-LR']"
      ]
     },
     "execution_count": 6,
     "metadata": {},
     "output_type": "execute_result"
    }
   ],
   "source": [
    "gpm.available_products(product_categories=\"IMERG\", product_types=\"NRT\")"
   ]
  },
  {
   "cell_type": "markdown",
   "id": "ef007b19-e338-4a7f-aa0d-5a26942af392",
   "metadata": {},
   "source": [
    "# Set time range\n",
    "\n",
    "Here you can set the time range you want your data from, which product and which version."
   ]
  },
  {
   "cell_type": "code",
   "execution_count": 7,
   "id": "d71de187-651d-4fa4-97c3-b8a66cbe2b6f",
   "metadata": {},
   "outputs": [],
   "source": [
    "# Specify the time period you are interested in\n",
    "start_time = datetime.datetime.strptime(\"2022-01-01 00:00:00\", \"%Y-%m-%d %H:%M:%S\")\n",
    "end_time = datetime.datetime.strptime(\"2022-01-01 01:00:00\", \"%Y-%m-%d %H:%M:%S\")\n",
    "\n",
    "# Specify the product and product type\n",
    "product = 'IMERG-FR'  #\"IMERG-FR\"  # 'IMERG-ER' 'IMERG-LR'\n",
    "product_type = \"RS\" #\"RS\"  # \"NRT\"\n",
    "\n",
    "# Specify the version\n",
    "version = 7"
   ]
  },
  {
   "cell_type": "markdown",
   "id": "70854927-4856-42a6-af68-73bb128b4b21",
   "metadata": {},
   "source": [
    "# Download data\n",
    "This code will start downloading your requested data"
   ]
  },
  {
   "cell_type": "code",
   "execution_count": 8,
   "id": "23d1156f-dcf9-4a92-b53f-a6a3ee78a65f",
   "metadata": {},
   "outputs": [
    {
     "name": "stderr",
     "output_type": "stream",
     "text": [
      "100%|████████████████████████████████████████████████████████████████████████████████████| 4/4 [00:09<00:00,  2.30s/it]\n"
     ]
    },
    {
     "data": {
      "text/plain": [
       "[]"
      ]
     },
     "execution_count": 8,
     "metadata": {},
     "output_type": "execute_result"
    }
   ],
   "source": [
    "# Download the data\n",
    "gpm.download(\n",
    "    product=product,\n",
    "    product_type=product_type,\n",
    "    version=version,\n",
    "    n_threads = 8,\n",
    "    #transfer_tool = 'curl',\n",
    "    storage = 'ges_disc',\n",
    "    start_time=start_time,\n",
    "    end_time=end_time,\n",
    "    force_download=False,\n",
    "    verbose=False,\n",
    "    progress_bar=True,\n",
    "    check_integrity=True,\n",
    ")"
   ]
  }
 ],
 "metadata": {
  "kernelspec": {
   "display_name": "gpm-api-dev",
   "language": "python",
   "name": "gpm-api-dev"
  },
  "language_info": {
   "codemirror_mode": {
    "name": "ipython",
    "version": 3
   },
   "file_extension": ".py",
   "mimetype": "text/x-python",
   "name": "python",
   "nbconvert_exporter": "python",
   "pygments_lexer": "ipython3",
   "version": "3.11.10"
  }
 },
 "nbformat": 4,
 "nbformat_minor": 5
}
