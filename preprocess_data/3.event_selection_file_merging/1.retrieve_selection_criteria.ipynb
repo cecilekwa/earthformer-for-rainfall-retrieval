{
 "cells": [
  {
   "cell_type": "markdown",
   "id": "fbb10366-2822-499e-842a-ae9978f04934",
   "metadata": {},
   "source": [
    "# import libraries"
   ]
  },
  {
   "cell_type": "code",
   "execution_count": 1,
   "id": "c67264a2-1d2b-45cc-9362-afbe98124423",
   "metadata": {},
   "outputs": [],
   "source": [
    "import os\n",
    "import h5py\n",
    "import xarray as xr\n",
    "import numpy as np\n",
    "from datetime import datetime, timedelta\n",
    "import random\n",
    "import matplotlib.pyplot as plt\n",
    "import pandas as pd"
   ]
  },
  {
   "cell_type": "markdown",
   "id": "642524e3-56e6-45eb-a73a-9151583e2071",
   "metadata": {},
   "source": [
    "# Set file paths"
   ]
  },
  {
   "cell_type": "code",
   "execution_count": 2,
   "id": "1e447dc5-e67a-4531-a39a-99bca4538010",
   "metadata": {},
   "outputs": [],
   "source": [
    "imerg_path = r\"file_path_to_your_imerg_files\"\n",
    "output_file = r'your_output_name.csv' #Name your dataframe with selection criteria don't remove the .csv"
   ]
  },
  {
   "cell_type": "markdown",
   "id": "6cd51222-4c3d-4dc7-9462-4e8fb181f4ae",
   "metadata": {},
   "source": [
    "# Define time intervals"
   ]
  },
  {
   "cell_type": "code",
   "execution_count": 3,
   "id": "76622202-5870-4076-acc2-74dd35caa633",
   "metadata": {},
   "outputs": [],
   "source": [
    "# Define time interval of the IPW and the preceeding time taken into account for the estimation and output path\n",
    "time_interval_ipw = timedelta(minutes = 2)\n",
    "step_time_ipw = timedelta(minutes = 30)\n",
    "time_interval = timedelta(hours=2)"
   ]
  },
  {
   "cell_type": "markdown",
   "id": "5cda2db7-2e1e-429d-ba6b-5fcea62bb2de",
   "metadata": {},
   "source": [
    "# Get time of the files"
   ]
  },
  {
   "cell_type": "code",
   "execution_count": 4,
   "id": "7aa8017e-4f64-4146-bf2d-3d9baa75f5b1",
   "metadata": {},
   "outputs": [],
   "source": [
    "# Function to extract datetime from filename\n",
    "def extract_datetime_seviri(filename):\n",
    "    dt = datetime.strptime(filename.split('-')[5].split('.')[0], \"%Y%m%d%H%M%S\")\n",
    "    return dt\n",
    "\n",
    "def extract_datetime_imerg(filename):\n",
    "    day = filename.split('.')[4].split('-')[0]\n",
    "    hoday = filename.split('.')[4].split('-')[2][1:7]\n",
    "    dt = datetime.strptime(day + hoday, \"%Y%m%d%H%M%S\")\n",
    "    return dt"
   ]
  },
  {
   "cell_type": "code",
   "execution_count": 5,
   "id": "dbe104ba-2ab3-48c8-90fd-051abe2d25ce",
   "metadata": {},
   "outputs": [],
   "source": [
    "# List to store all file paths\n",
    "imerg_files = []\n",
    "\n",
    "# Traverse through all subdirectories and files in the given path\n",
    "for root, dirs, files in os.walk(imerg_path):\n",
    "    for file in files:\n",
    "        if file.endswith(\".HDF5\"):\n",
    "            imerg_files.append(file)\n",
    "\n",
    "# Sort the list of files\n",
    "imerg_files = sorted(imerg_files)\n",
    "\n",
    "# List to store all file paths\n",
    "seviri_files = []\n",
    "\n",
    "# Traverse through all subdirectories and files in the given path\n",
    "for root, dirs, files in os.walk(seviri_path):\n",
    "    for file in files:\n",
    "        if file.endswith(\".hdf5\"):\n",
    "            seviri_files.append(file)\n",
    "\n",
    "# Sort the list of files\n",
    "seviri_files = sorted(seviri_files)"
   ]
  },
  {
   "cell_type": "markdown",
   "id": "d9dd31a2-392a-4798-aa70-ee53bb818312",
   "metadata": {},
   "source": [
    "# Get files within a certain interval"
   ]
  },
  {
   "cell_type": "code",
   "execution_count": 7,
   "id": "11d07622-1f57-4710-92c3-1a42f5d7def3",
   "metadata": {},
   "outputs": [],
   "source": [
    "# Function to find all files within a time interval\n",
    "def get_files_in_interval_imerg(start_time, end_time, imerg_files):\n",
    "    imerg_interval = [f for f in imerg_files if start_time <= extract_datetime_imerg(f) <= end_time]\n",
    "    return imerg_interval\n",
    "\n",
    "# Function to find all files within a time interval\n",
    "def get_files_in_interval_seviri(start_time, end_time, seviri_files):\n",
    "    seviri_interval = [f for f in seviri_files if start_time <= extract_datetime_seviri(f) <= end_time]\n",
    "    return seviri_interval"
   ]
  },
  {
   "cell_type": "markdown",
   "id": "e9ffbfed-5825-438f-80cc-c6710c62a549",
   "metadata": {},
   "source": [
    "# Get weights for probability sampling"
   ]
  },
  {
   "cell_type": "code",
   "execution_count": 11,
   "id": "817eddad-784f-45ea-9fd2-bf664fed6984",
   "metadata": {},
   "outputs": [],
   "source": [
    "p_dt = []\n",
    "\n",
    "p_sum = []\n",
    "p_num_gridcells = []\n",
    "p_average = []\n",
    "p_coverage = []\n",
    "p_peak = []\n",
    "p_num_min_max_5mm = []\n",
    "p_max_num = []\n",
    "\n",
    "# Traverse through all subdirectories and files in the given path\n",
    "imerg_files_path = []\n",
    "for root, dirs, files in os.walk(imerg_path):\n",
    "    for file in files:\n",
    "        if file.endswith(\".HDF5\"):\n",
    "            imerg_files_path.append(os.path.join(root, file))\n",
    "\n",
    "for file in imerg_files_path:\n",
    "\n",
    "\n",
    "    #load in the file\n",
    "    ds = xr.open_dataset(file, engine='netcdf4')\n",
    "\n",
    "    try:\n",
    "    \n",
    "\n",
    "        #calculate the sum of precipitation for all grid cells > 1 mm/h\n",
    "        precip_sum = ds['IMERG_FR'].where(ds['IMERG_FR'] > 1.).sum().item()\n",
    "    \n",
    "        #Calculate number of grid cells with precipitation > 1 mm/h\n",
    "        precip_num = (ds['IMERG_FR'] > 1.).sum().item()\n",
    "    \n",
    "        #Calculate the average precipitatin of grid cells > 1 mm/h\n",
    "        if precip_num > 0:\n",
    "            p_average.append(precip_sum / precip_num)\n",
    "    \n",
    "        else:\n",
    "            #If there is no precipitation set it to a really small value\n",
    "            p_average.append(0.0001)\n",
    "    \n",
    "        #find maximum precipitation\n",
    "        precip_max = ds['IMERG_FR'].max().item()\n",
    "    \n",
    "        #Check how much pixels contain the maximum value\n",
    "        precip_max_num = (ds['IMERG_FR'] > precip_max).sum().item()\n",
    "    \n",
    "        #Check how much pixels contain more than 5 mm/h\n",
    "        precip_num_min_max_5mm = (ds['IMERG_FR'] > 5.).sum().item()\n",
    "    \n",
    "        # Calculate coverage of precipitation \n",
    "        precip_perc = precip_num / (ds['IMERG_FR'].shape[0] * ds['IMERG_FR'].shape[0])\n",
    "    \n",
    "        # set timestamp to save\n",
    "        p_dt.append(extract_datetime_imerg(file))\n",
    "    \n",
    "       #append values to lists \n",
    "        p_peak.append(precip_max)\n",
    "        p_sum.append(precip_sum) # Sum of all the rainfall bigger than 1 mm/h\n",
    "        p_num_gridcells.append(precip_num) # Number of gridcells with rainfall bigger than 1 mm/h\n",
    "        p_num_min_max_5mm.append(precip_num_min_max_5mm) #Number of gridcells with rainfall bigger than 5 mm/h\n",
    "        p_coverage.append(precip_perc) #Percentual coverage of the area containining precipitation > 5 mm/h\n",
    "        p_max_num.append(precip_max_num) #Number of gridcells that contain the maximum precipitation value\n",
    "\n",
    "    except KeyError:\n",
    "        print('file is empty')"
   ]
  },
  {
   "cell_type": "code",
   "execution_count": 12,
   "id": "29b0b1af-1cc0-46a5-af39-5d5c8f8f4068",
   "metadata": {},
   "outputs": [],
   "source": [
    "# Convert the list to a DataFrame\n",
    "df = pd.DataFrame(p_dt, columns=['time'])\n",
    "df['sum'] = p_sum\n",
    "df['num_grid_cells'] = p_num_gridcells\n",
    "df['average'] = p_average\n",
    "df['coverage'] = p_coverage\n",
    "df['peak'] = p_peak\n",
    "df['num_5mm'] = p_num_min_max_5mm\n",
    "df['num_max'] = p_max_num\n",
    "\n",
    "# Save the DataFrame to a CSV file\n",
    "df.to_csv(output_file, index=False)"
   ]
  }
 ],
 "metadata": {
  "kernelspec": {
   "display_name": "Python 3 (ipykernel)",
   "language": "python",
   "name": "python3"
  },
  "language_info": {
   "codemirror_mode": {
    "name": "ipython",
    "version": 3
   },
   "file_extension": ".py",
   "mimetype": "text/x-python",
   "name": "python",
   "nbconvert_exporter": "python",
   "pygments_lexer": "ipython3",
   "version": "3.12.5"
  }
 },
 "nbformat": 4,
 "nbformat_minor": 5
}
