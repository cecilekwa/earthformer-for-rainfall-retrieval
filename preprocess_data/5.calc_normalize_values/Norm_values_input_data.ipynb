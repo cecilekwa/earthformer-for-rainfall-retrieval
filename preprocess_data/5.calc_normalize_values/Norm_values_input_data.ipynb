{
 "cells": [
  {
   "cell_type": "markdown",
   "id": "ba6754f9-4696-4197-b2a0-8ee6ff057bb5",
   "metadata": {},
   "source": [
    "# Import libraries"
   ]
  },
  {
   "cell_type": "code",
   "execution_count": 1,
   "id": "870e0ba1-4fd1-45d4-90f0-a635b8c15b0b",
   "metadata": {},
   "outputs": [],
   "source": [
    "import numpy as np\n",
    "import os\n",
    "import xarray as xr\n",
    "import numpy as np"
   ]
  },
  {
   "cell_type": "markdown",
   "id": "2f2626d5-0ae8-4830-873b-0112446a4daf",
   "metadata": {},
   "source": [
    "# Set root directory"
   ]
  },
  {
   "cell_type": "code",
   "execution_count": 2,
   "id": "44401d87-3a0f-4ea0-9d8b-26df05dbb445",
   "metadata": {},
   "outputs": [],
   "source": [
    "# Load all files\n",
    "root_dir = r\"D:\\Ghana\\Merged_files_IMERG_SEVIRI\\Condition_set_0.02_20_all\"\n",
    "#root_dir = r\"Z:\\cluster_projects\\ro\\1149_10\\earthformer-multisource-to-inca\\data_adapted_condition_0.01_5_all\""
   ]
  },
  {
   "cell_type": "markdown",
   "id": "bca62c3e-3ef7-443f-98a8-bb1cbe841372",
   "metadata": {},
   "source": [
    "# Calculate mean and standard deviation"
   ]
  },
  {
   "cell_type": "code",
   "execution_count": 3,
   "id": "205f6833-b0e5-4ac2-bf90-2b512e6566ac",
   "metadata": {},
   "outputs": [],
   "source": [
    "# Traverse through all subdirectories and files in the given path\n",
    "files_path = []\n",
    "for root, dirs, files in os.walk(root_dir):\n",
    "    for file in files:\n",
    "        if file.endswith(\".hdf5\"):\n",
    "            files_path.append(os.path.join(root, file))"
   ]
  },
  {
   "cell_type": "code",
   "execution_count": 4,
   "id": "cbeb96dc-36e0-41aa-9e06-185beb45f6b1",
   "metadata": {},
   "outputs": [],
   "source": [
    "seviri_channel_means = np.zeros((11, len(files_path)))\n",
    "imerg_means = []\n",
    "  \n",
    "\n",
    "for i, file in enumerate(files_path):\n",
    "    #print(file)\n",
    "    ds = xr.open_dataset(file, engine='netcdf4')\n",
    "\n",
    "    # Extract the IMERG and SEVIRI variables\n",
    "    imerge = ds[\"IMERG\"]  # Shape: (1, 248, 184)\n",
    "    seviri = ds[\"SEVIRI\"]  # Shape: (9, 248, 184, 11)\n",
    "\n",
    "    # Compute the mean for IMERG over all dimensions (time, height, width)\n",
    "    imerg_mean = imerge.mean(dim=(\"phony_dim_0\", \"phony_dim_1\", \"phony_dim_2\")).values  # Single value\n",
    "    imerg_means.append(imerg_mean)\n",
    "\n",
    "    # Compute the mean for SEVIRI over time and spatial dimensions, separately for each channel\n",
    "    seviri_channel_mean = []\n",
    "    for channel in range(seviri.shape[-1]):  # Loop through the 11 channels\n",
    "        channel_mean = seviri.mean(dim=(\"phony_dim_1\", \"phony_dim_2\", \"phony_dim_3\")).values\n",
    "        seviri_channel_means[:, i]  = channel_mean"
   ]
  },
  {
   "cell_type": "code",
   "execution_count": 5,
   "id": "3d2a72eb-f69c-4f08-922a-1614594ae640",
   "metadata": {},
   "outputs": [
    {
     "name": "stdout",
     "output_type": "stream",
     "text": [
      "IMERG Mean: 0.6195765\n",
      "SEVIRI Channel Means: [ 10.25720179  12.5617076    8.52811886 273.61663637 230.79820342\n",
      " 244.10878277 263.99073923 253.54030633 263.60335884 260.92204897\n",
      " 247.74221263]\n"
     ]
    }
   ],
   "source": [
    "# # Final results\n",
    "print('IMERG Mean:', np.mean(imerg_means))\n",
    "print('SEVIRI Channel Means:', np.mean(seviri_channel_means, axis = 1))"
   ]
  },
  {
   "cell_type": "code",
   "execution_count": 7,
   "id": "443e370b-ec73-464b-b09f-8688d20f7c11",
   "metadata": {},
   "outputs": [
    {
     "name": "stdout",
     "output_type": "stream",
     "text": [
      "Global Standard Deviation for IMERG-Final: <xarray.DataArray 'IMERG' ()> Size: 4B\n",
      "np.float32(2.1691806)\n"
     ]
    }
   ],
   "source": [
    "global_mean = np.mean(imerg_means)\n",
    "\n",
    "# Pass 2: Calculate global variance\n",
    "squared_diff_sum = 0\n",
    "total_count = 0\n",
    "\n",
    "for file in files_path:\n",
    "    with xr.open_dataset(file, engine='netcdf4') as h5file:\n",
    "        data = h5file['IMERG'][0, :, :]  \n",
    "        squared_diff_sum += np.sum((data - global_mean) ** 2)\n",
    "        total_count += data.size\n",
    "\n",
    "global_variance = squared_diff_sum / total_count\n",
    "global_std = np.sqrt(global_variance)\n",
    "\n",
    "print(\"Global Standard Deviation for IMERG-Final:\", global_std)"
   ]
  },
  {
   "cell_type": "code",
   "execution_count": 13,
   "id": "66d8870e-c435-4c7b-b027-3a6c1c48c7c8",
   "metadata": {},
   "outputs": [
    {
     "name": "stdout",
     "output_type": "stream",
     "text": [
      "Global Standard Deviation for SEVIRI Channels: [16.86940958 18.52551459 11.51099045 28.85905664 11.1876696  17.51180968\n",
      " 28.80451948 19.34965801 29.88327903 29.32706102 21.25034604]\n"
     ]
    }
   ],
   "source": [
    "# Assuming `seviri_channel_means` is a precomputed array with means for each channel\n",
    "squared_diff_sum_seviri = np.zeros(len(seviri_channel_means))  # To store squared differences per channel\n",
    "pixels_per_channel = 0  # To count pixels for one channel\n",
    "\n",
    "seviri_channel_mean_mean = np.mean(seviri_channel_means, axis = 1)\n",
    "total_count = 0\n",
    "# Loop through files\n",
    "for file in files_path:\n",
    "    #print(file)\n",
    "    with xr.open_dataset(file, engine='netcdf4') as h5file:\n",
    "        data_seviri = h5file['SEVIRI'][:, :, :, :]  # Replace with your dataset name\n",
    "\n",
    "        # Get pixel count for one channel (same for all channels in this dataset)\n",
    "        if pixels_per_channel == 0:  # Calculate once\n",
    "            pixels_per_channel = data_seviri.shape[0] * data_seviri.shape[1] * data_seviri.shape[2]\n",
    "\n",
    "        # Loop through channels and time steps\n",
    "        for channel in range(data_seviri.shape[-1]):  # Loop through channels\n",
    "            for time in range(data_seviri.shape[0]):  # Loop through time\n",
    "                # Compute squared differences and accumulate for the current channel\n",
    "                squared_diff_sum_seviri[channel] += np.sum(\n",
    "                    (data_seviri[time, :, :, channel] - seviri_channel_mean_mean[channel]) ** 2\n",
    "                )\n",
    "\n",
    "        total_count += pixels_per_channel\n",
    "\n",
    "# Calculate global variance and standard deviation for each channel\n",
    "global_variance_seviri = squared_diff_sum_seviri / total_count\n",
    "global_std_seviri = np.sqrt(global_variance_seviri)\n",
    "\n",
    "print(\"Global Standard Deviation for SEVIRI Channels:\", global_std_seviri)"
   ]
  },
  {
   "cell_type": "code",
   "execution_count": null,
   "id": "a754a55a-4655-4db9-909a-7993eaee943c",
   "metadata": {},
   "outputs": [],
   "source": []
  }
 ],
 "metadata": {
  "kernelspec": {
   "display_name": "Python 3 (ipykernel)",
   "language": "python",
   "name": "python3"
  },
  "language_info": {
   "codemirror_mode": {
    "name": "ipython",
    "version": 3
   },
   "file_extension": ".py",
   "mimetype": "text/x-python",
   "name": "python",
   "nbconvert_exporter": "python",
   "pygments_lexer": "ipython3",
   "version": "3.12.5"
  }
 },
 "nbformat": 4,
 "nbformat_minor": 5
}
