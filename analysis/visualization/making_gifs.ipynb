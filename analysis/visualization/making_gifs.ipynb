{
 "cells": [
  {
   "cell_type": "code",
   "execution_count": 1,
   "id": "22733889-54c9-46ac-b322-6b5efbc19dd1",
   "metadata": {},
   "outputs": [],
   "source": [
    "import xarray as xr\n",
    "import h5py\n",
    "import matplotlib.pyplot as plt\n",
    "import cartopy.crs as ccrs\n",
    "import cartopy.feature as cfeature\n",
    "from matplotlib.colors import LinearSegmentedColormap, BoundaryNorm\n",
    "import cartopy\n",
    "from datetime import datetime, timedelta\n",
    "import os\n",
    "import numpy as np\n",
    "import pandas as pd\n",
    "import imageio"
   ]
  },
  {
   "cell_type": "code",
   "execution_count": 2,
   "id": "c4e04e13-9bdc-408d-a77b-40702be9e801",
   "metadata": {},
   "outputs": [],
   "source": [
    "grid_path = r'Z:/cluster_projects/ro/1149_10/earthformer-multisource-to-inca/data_adapted_condition_0.02_20_all/Auxillary/grid_2d.h5'"
   ]
  },
  {
   "cell_type": "code",
   "execution_count": 3,
   "id": "53d89c60-e7a0-4cc4-8d87-69741f0325c2",
   "metadata": {},
   "outputs": [],
   "source": [
    "rivers = cartopy.feature.NaturalEarthFeature(category='physical', name='rivers_lake_centerlines', scale='10m')\n",
    "border = cartopy.feature.NaturalEarthFeature('cultural', 'admin_0_countries', '50m')\n",
    "lon_model = np.flipud(h5py.File(grid_path,'r')['lon'][:, :])\n",
    "lat_model = np.flipud(h5py.File(grid_path,'r')['lat'][:, :])"
   ]
  },
  {
   "cell_type": "code",
   "execution_count": 9,
   "id": "a0b9b71f-e86c-4539-a78a-aa3f5fe26eab",
   "metadata": {},
   "outputs": [
    {
     "data": {
      "text/html": [
       "<div>\n",
       "<style scoped>\n",
       "    .dataframe tbody tr th:only-of-type {\n",
       "        vertical-align: middle;\n",
       "    }\n",
       "\n",
       "    .dataframe tbody tr th {\n",
       "        vertical-align: top;\n",
       "    }\n",
       "\n",
       "    .dataframe thead th {\n",
       "        text-align: right;\n",
       "    }\n",
       "</style>\n",
       "<table border=\"1\" class=\"dataframe\">\n",
       "  <thead>\n",
       "    <tr style=\"text-align: right;\">\n",
       "      <th></th>\n",
       "      <th>station code</th>\n",
       "      <th>name</th>\n",
       "      <th>country</th>\n",
       "      <th>installation height (m)</th>\n",
       "      <th>latitude</th>\n",
       "      <th>longitude</th>\n",
       "      <th>elevation (m)</th>\n",
       "      <th>timezone</th>\n",
       "    </tr>\n",
       "  </thead>\n",
       "  <tbody>\n",
       "    <tr>\n",
       "      <th>0</th>\n",
       "      <td>TA00005</td>\n",
       "      <td>Asankragwa SHS</td>\n",
       "      <td>GH</td>\n",
       "      <td>2.0</td>\n",
       "      <td>5.807731</td>\n",
       "      <td>-2.426395</td>\n",
       "      <td>125.1</td>\n",
       "      <td>Africa/Accra</td>\n",
       "    </tr>\n",
       "    <tr>\n",
       "      <th>1</th>\n",
       "      <td>TA00007</td>\n",
       "      <td>Nana Yaa Kesse SHS Duayaw Nkwanta</td>\n",
       "      <td>GH</td>\n",
       "      <td>2.0</td>\n",
       "      <td>7.188273</td>\n",
       "      <td>-2.097477</td>\n",
       "      <td>341.1</td>\n",
       "      <td>Africa/Accra</td>\n",
       "    </tr>\n",
       "    <tr>\n",
       "      <th>2</th>\n",
       "      <td>TA00010</td>\n",
       "      <td>Chiraa SHS</td>\n",
       "      <td>GH</td>\n",
       "      <td>2.0</td>\n",
       "      <td>7.389595</td>\n",
       "      <td>-2.185991</td>\n",
       "      <td>337.1</td>\n",
       "      <td>Africa/Accra</td>\n",
       "    </tr>\n",
       "    <tr>\n",
       "      <th>3</th>\n",
       "      <td>TA00016</td>\n",
       "      <td>Accra Academy School, Accra</td>\n",
       "      <td>GH</td>\n",
       "      <td>2.0</td>\n",
       "      <td>5.573104</td>\n",
       "      <td>-0.244500</td>\n",
       "      <td>32.4</td>\n",
       "      <td>Africa/Accra</td>\n",
       "    </tr>\n",
       "    <tr>\n",
       "      <th>4</th>\n",
       "      <td>TA00045</td>\n",
       "      <td>Asesewaa Senior High School, Asesewaa</td>\n",
       "      <td>GH</td>\n",
       "      <td>2.0</td>\n",
       "      <td>6.400626</td>\n",
       "      <td>-0.146577</td>\n",
       "      <td>372.3</td>\n",
       "      <td>Africa/Accra</td>\n",
       "    </tr>\n",
       "    <tr>\n",
       "      <th>5</th>\n",
       "      <td>TA00113</td>\n",
       "      <td>Nkwanta SHS</td>\n",
       "      <td>GH</td>\n",
       "      <td>2.0</td>\n",
       "      <td>8.271124</td>\n",
       "      <td>0.515265</td>\n",
       "      <td>213.7</td>\n",
       "      <td>Africa/Accra</td>\n",
       "    </tr>\n",
       "    <tr>\n",
       "      <th>6</th>\n",
       "      <td>TA00116</td>\n",
       "      <td>Amedzofe Technical Institute</td>\n",
       "      <td>GH</td>\n",
       "      <td>2.0</td>\n",
       "      <td>6.845815</td>\n",
       "      <td>0.440698</td>\n",
       "      <td>731.8</td>\n",
       "      <td>Africa/Accra</td>\n",
       "    </tr>\n",
       "    <tr>\n",
       "      <th>7</th>\n",
       "      <td>TA00117</td>\n",
       "      <td>Keta SHS</td>\n",
       "      <td>GH</td>\n",
       "      <td>2.0</td>\n",
       "      <td>5.895083</td>\n",
       "      <td>0.989567</td>\n",
       "      <td>10.0</td>\n",
       "      <td>Africa/Accra</td>\n",
       "    </tr>\n",
       "    <tr>\n",
       "      <th>8</th>\n",
       "      <td>TA00118</td>\n",
       "      <td>Tema Secondary School</td>\n",
       "      <td>GH</td>\n",
       "      <td>2.0</td>\n",
       "      <td>5.641413</td>\n",
       "      <td>-0.011870</td>\n",
       "      <td>18.4</td>\n",
       "      <td>Africa/Accra</td>\n",
       "    </tr>\n",
       "    <tr>\n",
       "      <th>9</th>\n",
       "      <td>TA00120</td>\n",
       "      <td>Nkroful Agric SHS</td>\n",
       "      <td>GH</td>\n",
       "      <td>2.0</td>\n",
       "      <td>4.971861</td>\n",
       "      <td>-2.322676</td>\n",
       "      <td>28.0</td>\n",
       "      <td>Africa/Accra</td>\n",
       "    </tr>\n",
       "    <tr>\n",
       "      <th>10</th>\n",
       "      <td>TA00121</td>\n",
       "      <td>Half Assini SHS</td>\n",
       "      <td>GH</td>\n",
       "      <td>2.0</td>\n",
       "      <td>5.053207</td>\n",
       "      <td>-2.877294</td>\n",
       "      <td>14.0</td>\n",
       "      <td>Africa/Accra</td>\n",
       "    </tr>\n",
       "    <tr>\n",
       "      <th>11</th>\n",
       "      <td>TA00136</td>\n",
       "      <td>Notre Dame Seminary/SHS, Navrongo</td>\n",
       "      <td>GH</td>\n",
       "      <td>2.0</td>\n",
       "      <td>10.883374</td>\n",
       "      <td>-1.071105</td>\n",
       "      <td>187.0</td>\n",
       "      <td>Africa/Accra</td>\n",
       "    </tr>\n",
       "    <tr>\n",
       "      <th>12</th>\n",
       "      <td>TA00251</td>\n",
       "      <td>Daffiama SHS, Daffiama</td>\n",
       "      <td>GH</td>\n",
       "      <td>2.0</td>\n",
       "      <td>10.424955</td>\n",
       "      <td>-2.554480</td>\n",
       "      <td>322.8</td>\n",
       "      <td>Africa/Accra</td>\n",
       "    </tr>\n",
       "    <tr>\n",
       "      <th>13</th>\n",
       "      <td>TA00254</td>\n",
       "      <td>Bongo SHS, Bongo</td>\n",
       "      <td>GH</td>\n",
       "      <td>2.0</td>\n",
       "      <td>10.913211</td>\n",
       "      <td>-0.810161</td>\n",
       "      <td>212.8</td>\n",
       "      <td>Africa/Accra</td>\n",
       "    </tr>\n",
       "    <tr>\n",
       "      <th>14</th>\n",
       "      <td>TA00259</td>\n",
       "      <td>Kpandai SHS, Kpandai</td>\n",
       "      <td>GH</td>\n",
       "      <td>2.0</td>\n",
       "      <td>8.476085</td>\n",
       "      <td>-0.028542</td>\n",
       "      <td>196.3</td>\n",
       "      <td>Africa/Accra</td>\n",
       "    </tr>\n",
       "    <tr>\n",
       "      <th>15</th>\n",
       "      <td>TA00266</td>\n",
       "      <td>Kajaji SHS, Kajaji</td>\n",
       "      <td>GH</td>\n",
       "      <td>2.0</td>\n",
       "      <td>7.781986</td>\n",
       "      <td>-0.212638</td>\n",
       "      <td>130.0</td>\n",
       "      <td>Africa/Accra</td>\n",
       "    </tr>\n",
       "    <tr>\n",
       "      <th>16</th>\n",
       "      <td>TA00301</td>\n",
       "      <td>St. Paul's SHS, Denu</td>\n",
       "      <td>GH</td>\n",
       "      <td>2.0</td>\n",
       "      <td>6.124187</td>\n",
       "      <td>1.126036</td>\n",
       "      <td>21.0</td>\n",
       "      <td>Africa/Accra</td>\n",
       "    </tr>\n",
       "    <tr>\n",
       "      <th>17</th>\n",
       "      <td>TA00302</td>\n",
       "      <td>Ghana SHS, Koforidua</td>\n",
       "      <td>GH</td>\n",
       "      <td>2.0</td>\n",
       "      <td>6.107885</td>\n",
       "      <td>-0.264210</td>\n",
       "      <td>198.0</td>\n",
       "      <td>Africa/Accra</td>\n",
       "    </tr>\n",
       "    <tr>\n",
       "      <th>18</th>\n",
       "      <td>TA00391</td>\n",
       "      <td>Agri Impact</td>\n",
       "      <td>GH</td>\n",
       "      <td>2.0</td>\n",
       "      <td>5.760172</td>\n",
       "      <td>-0.231223</td>\n",
       "      <td>355.0</td>\n",
       "      <td>Africa/Accra</td>\n",
       "    </tr>\n",
       "    <tr>\n",
       "      <th>19</th>\n",
       "      <td>TA00392</td>\n",
       "      <td>Wenchi Methodist SHS, Wenchi</td>\n",
       "      <td>GH</td>\n",
       "      <td>2.0</td>\n",
       "      <td>7.755588</td>\n",
       "      <td>-2.101559</td>\n",
       "      <td>322.0</td>\n",
       "      <td>Africa/Accra</td>\n",
       "    </tr>\n",
       "    <tr>\n",
       "      <th>20</th>\n",
       "      <td>TA00616</td>\n",
       "      <td>CSIR-SARI, Nyankpala - Tamale</td>\n",
       "      <td>GH</td>\n",
       "      <td>2.5</td>\n",
       "      <td>9.400825</td>\n",
       "      <td>-1.001911</td>\n",
       "      <td>191.0</td>\n",
       "      <td>Africa/Accra</td>\n",
       "    </tr>\n",
       "    <tr>\n",
       "      <th>21</th>\n",
       "      <td>TA00647</td>\n",
       "      <td>UG Greenhouse, Legon</td>\n",
       "      <td>GH</td>\n",
       "      <td>2.0</td>\n",
       "      <td>5.659788</td>\n",
       "      <td>-0.190434</td>\n",
       "      <td>82.0</td>\n",
       "      <td>Africa/Accra</td>\n",
       "    </tr>\n",
       "    <tr>\n",
       "      <th>22</th>\n",
       "      <td>TA00689</td>\n",
       "      <td>Walembelle Poly Clinic</td>\n",
       "      <td>GH</td>\n",
       "      <td>2.0</td>\n",
       "      <td>10.501056</td>\n",
       "      <td>-1.968561</td>\n",
       "      <td>292.2</td>\n",
       "      <td>Africa/Accra</td>\n",
       "    </tr>\n",
       "    <tr>\n",
       "      <th>23</th>\n",
       "      <td>TA00690</td>\n",
       "      <td>Bui Power Authority, Bui</td>\n",
       "      <td>GH</td>\n",
       "      <td>2.0</td>\n",
       "      <td>8.247040</td>\n",
       "      <td>-2.252721</td>\n",
       "      <td>165.9</td>\n",
       "      <td>Africa/Accra</td>\n",
       "    </tr>\n",
       "    <tr>\n",
       "      <th>24</th>\n",
       "      <td>TA00756</td>\n",
       "      <td>Kwadaso Agric College</td>\n",
       "      <td>GH</td>\n",
       "      <td>2.0</td>\n",
       "      <td>6.671519</td>\n",
       "      <td>-1.670523</td>\n",
       "      <td>270.4</td>\n",
       "      <td>Africa/Accra</td>\n",
       "    </tr>\n",
       "  </tbody>\n",
       "</table>\n",
       "</div>"
      ],
      "text/plain": [
       "   station code                                   name country  \\\n",
       "0       TA00005                         Asankragwa SHS      GH   \n",
       "1       TA00007      Nana Yaa Kesse SHS Duayaw Nkwanta      GH   \n",
       "2       TA00010                             Chiraa SHS      GH   \n",
       "3       TA00016            Accra Academy School, Accra      GH   \n",
       "4       TA00045  Asesewaa Senior High School, Asesewaa      GH   \n",
       "5       TA00113                            Nkwanta SHS      GH   \n",
       "6       TA00116           Amedzofe Technical Institute      GH   \n",
       "7       TA00117                               Keta SHS      GH   \n",
       "8       TA00118                  Tema Secondary School      GH   \n",
       "9       TA00120                      Nkroful Agric SHS      GH   \n",
       "10      TA00121                        Half Assini SHS      GH   \n",
       "11      TA00136      Notre Dame Seminary/SHS, Navrongo      GH   \n",
       "12      TA00251                 Daffiama SHS, Daffiama      GH   \n",
       "13      TA00254                       Bongo SHS, Bongo      GH   \n",
       "14      TA00259                   Kpandai SHS, Kpandai      GH   \n",
       "15      TA00266                     Kajaji SHS, Kajaji      GH   \n",
       "16      TA00301                   St. Paul's SHS, Denu      GH   \n",
       "17      TA00302                   Ghana SHS, Koforidua      GH   \n",
       "18      TA00391                            Agri Impact      GH   \n",
       "19      TA00392           Wenchi Methodist SHS, Wenchi      GH   \n",
       "20      TA00616          CSIR-SARI, Nyankpala - Tamale      GH   \n",
       "21      TA00647                   UG Greenhouse, Legon      GH   \n",
       "22      TA00689                 Walembelle Poly Clinic      GH   \n",
       "23      TA00690               Bui Power Authority, Bui      GH   \n",
       "24      TA00756                  Kwadaso Agric College      GH   \n",
       "\n",
       "    installation height (m)   latitude  longitude  elevation (m)      timezone  \n",
       "0                       2.0   5.807731  -2.426395          125.1  Africa/Accra  \n",
       "1                       2.0   7.188273  -2.097477          341.1  Africa/Accra  \n",
       "2                       2.0   7.389595  -2.185991          337.1  Africa/Accra  \n",
       "3                       2.0   5.573104  -0.244500           32.4  Africa/Accra  \n",
       "4                       2.0   6.400626  -0.146577          372.3  Africa/Accra  \n",
       "5                       2.0   8.271124   0.515265          213.7  Africa/Accra  \n",
       "6                       2.0   6.845815   0.440698          731.8  Africa/Accra  \n",
       "7                       2.0   5.895083   0.989567           10.0  Africa/Accra  \n",
       "8                       2.0   5.641413  -0.011870           18.4  Africa/Accra  \n",
       "9                       2.0   4.971861  -2.322676           28.0  Africa/Accra  \n",
       "10                      2.0   5.053207  -2.877294           14.0  Africa/Accra  \n",
       "11                      2.0  10.883374  -1.071105          187.0  Africa/Accra  \n",
       "12                      2.0  10.424955  -2.554480          322.8  Africa/Accra  \n",
       "13                      2.0  10.913211  -0.810161          212.8  Africa/Accra  \n",
       "14                      2.0   8.476085  -0.028542          196.3  Africa/Accra  \n",
       "15                      2.0   7.781986  -0.212638          130.0  Africa/Accra  \n",
       "16                      2.0   6.124187   1.126036           21.0  Africa/Accra  \n",
       "17                      2.0   6.107885  -0.264210          198.0  Africa/Accra  \n",
       "18                      2.0   5.760172  -0.231223          355.0  Africa/Accra  \n",
       "19                      2.0   7.755588  -2.101559          322.0  Africa/Accra  \n",
       "20                      2.5   9.400825  -1.001911          191.0  Africa/Accra  \n",
       "21                      2.0   5.659788  -0.190434           82.0  Africa/Accra  \n",
       "22                      2.0  10.501056  -1.968561          292.2  Africa/Accra  \n",
       "23                      2.0   8.247040  -2.252721          165.9  Africa/Accra  \n",
       "24                      2.0   6.671519  -1.670523          270.4  Africa/Accra  "
      ]
     },
     "metadata": {},
     "output_type": "display_data"
    },
    {
     "data": {
      "text/html": [
       "<div>\n",
       "<style scoped>\n",
       "    .dataframe tbody tr th:only-of-type {\n",
       "        vertical-align: middle;\n",
       "    }\n",
       "\n",
       "    .dataframe tbody tr th {\n",
       "        vertical-align: top;\n",
       "    }\n",
       "\n",
       "    .dataframe thead th {\n",
       "        text-align: right;\n",
       "    }\n",
       "</style>\n",
       "<table border=\"1\" class=\"dataframe\">\n",
       "  <thead>\n",
       "    <tr style=\"text-align: right;\">\n",
       "      <th></th>\n",
       "      <th>sensor code</th>\n",
       "      <th>sensor name</th>\n",
       "      <th>installation date</th>\n",
       "      <th>deinstallation date</th>\n",
       "      <th>port number</th>\n",
       "      <th>installation height (m)</th>\n",
       "    </tr>\n",
       "  </thead>\n",
       "  <tbody>\n",
       "    <tr>\n",
       "      <th>0</th>\n",
       "      <td>S001402</td>\n",
       "      <td>ATMOS 41</td>\n",
       "      <td>2020-06-25T00:00:00Z</td>\n",
       "      <td>2199-01-01T00:00:00Z</td>\n",
       "      <td>1</td>\n",
       "      <td>2.0</td>\n",
       "    </tr>\n",
       "    <tr>\n",
       "      <th>1</th>\n",
       "      <td>S001188</td>\n",
       "      <td>ATMOS 41</td>\n",
       "      <td>2019-07-02T00:00:00Z</td>\n",
       "      <td>2020-06-25T00:00:00Z</td>\n",
       "      <td>1</td>\n",
       "      <td>2.0</td>\n",
       "    </tr>\n",
       "    <tr>\n",
       "      <th>2</th>\n",
       "      <td>S001233</td>\n",
       "      <td>ATMOS 41</td>\n",
       "      <td>2019-09-08T00:00:00Z</td>\n",
       "      <td>2199-01-01T00:00:00Z</td>\n",
       "      <td>1</td>\n",
       "      <td>2.0</td>\n",
       "    </tr>\n",
       "    <tr>\n",
       "      <th>3</th>\n",
       "      <td>S001234</td>\n",
       "      <td>ATMOS 41</td>\n",
       "      <td>2019-09-08T00:00:00Z</td>\n",
       "      <td>2023-06-04T17:00:00Z</td>\n",
       "      <td>1</td>\n",
       "      <td>2.0</td>\n",
       "    </tr>\n",
       "    <tr>\n",
       "      <th>4</th>\n",
       "      <td>S001944</td>\n",
       "      <td>ATMOS 41</td>\n",
       "      <td>2023-06-04T17:05:00Z</td>\n",
       "      <td>2199-01-01T00:00:00Z</td>\n",
       "      <td>1</td>\n",
       "      <td>2.0</td>\n",
       "    </tr>\n",
       "    <tr>\n",
       "      <th>5</th>\n",
       "      <td>S001566</td>\n",
       "      <td>ATMOS 41</td>\n",
       "      <td>2021-05-18T00:00:00Z</td>\n",
       "      <td>2023-07-12T00:00:00Z</td>\n",
       "      <td>1</td>\n",
       "      <td>2.0</td>\n",
       "    </tr>\n",
       "    <tr>\n",
       "      <th>6</th>\n",
       "      <td>S001212</td>\n",
       "      <td>ATMOS 41</td>\n",
       "      <td>2019-07-11T00:00:00Z</td>\n",
       "      <td>2021-05-18T00:00:00Z</td>\n",
       "      <td>1</td>\n",
       "      <td>2.0</td>\n",
       "    </tr>\n",
       "    <tr>\n",
       "      <th>7</th>\n",
       "      <td>S001955</td>\n",
       "      <td>ATMOS 41</td>\n",
       "      <td>2023-07-12T00:00:00Z</td>\n",
       "      <td>2199-01-01T00:00:00Z</td>\n",
       "      <td>1</td>\n",
       "      <td>2.0</td>\n",
       "    </tr>\n",
       "    <tr>\n",
       "      <th>8</th>\n",
       "      <td>S000711</td>\n",
       "      <td>ATMOS 41</td>\n",
       "      <td>2018-05-23T00:00:00Z</td>\n",
       "      <td>2199-01-01T00:00:00Z</td>\n",
       "      <td>1</td>\n",
       "      <td>2.0</td>\n",
       "    </tr>\n",
       "    <tr>\n",
       "      <th>9</th>\n",
       "      <td>S000127</td>\n",
       "      <td>ATMOS 41</td>\n",
       "      <td>2017-01-29T00:00:00Z</td>\n",
       "      <td>2020-09-14T00:00:00Z</td>\n",
       "      <td>1</td>\n",
       "      <td>2.0</td>\n",
       "    </tr>\n",
       "    <tr>\n",
       "      <th>10</th>\n",
       "      <td>S001418</td>\n",
       "      <td>ATMOS 41</td>\n",
       "      <td>2020-09-14T00:00:00Z</td>\n",
       "      <td>2199-01-01T00:00:00Z</td>\n",
       "      <td>1</td>\n",
       "      <td>2.0</td>\n",
       "    </tr>\n",
       "    <tr>\n",
       "      <th>11</th>\n",
       "      <td>S001420</td>\n",
       "      <td>ATMOS 41</td>\n",
       "      <td>2023-08-04T00:00:00Z</td>\n",
       "      <td>2199-01-01T00:00:00Z</td>\n",
       "      <td>1</td>\n",
       "      <td>2.0</td>\n",
       "    </tr>\n",
       "    <tr>\n",
       "      <th>12</th>\n",
       "      <td>S000125</td>\n",
       "      <td>ATMOS 41</td>\n",
       "      <td>2020-06-22T00:00:00Z</td>\n",
       "      <td>2020-08-17T00:00:00Z</td>\n",
       "      <td>1</td>\n",
       "      <td>2.0</td>\n",
       "    </tr>\n",
       "    <tr>\n",
       "      <th>13</th>\n",
       "      <td>S000130</td>\n",
       "      <td>ATMOS 41</td>\n",
       "      <td>2017-01-27T00:00:00Z</td>\n",
       "      <td>2019-11-22T00:00:00Z</td>\n",
       "      <td>1</td>\n",
       "      <td>2.0</td>\n",
       "    </tr>\n",
       "    <tr>\n",
       "      <th>14</th>\n",
       "      <td>S000276</td>\n",
       "      <td>ATMOS 41</td>\n",
       "      <td>2020-08-17T00:00:00Z</td>\n",
       "      <td>2020-09-27T00:00:00Z</td>\n",
       "      <td>1</td>\n",
       "      <td>2.0</td>\n",
       "    </tr>\n",
       "    <tr>\n",
       "      <th>15</th>\n",
       "      <td>S002023</td>\n",
       "      <td>ATMOS 41</td>\n",
       "      <td>2023-08-15T00:00:00Z</td>\n",
       "      <td>2199-01-01T00:00:00Z</td>\n",
       "      <td>1</td>\n",
       "      <td>2.0</td>\n",
       "    </tr>\n",
       "    <tr>\n",
       "      <th>16</th>\n",
       "      <td>S000131</td>\n",
       "      <td>ATMOS 41</td>\n",
       "      <td>2017-01-26T00:00:00Z</td>\n",
       "      <td>2023-04-11T00:00:00Z</td>\n",
       "      <td>1</td>\n",
       "      <td>2.0</td>\n",
       "    </tr>\n",
       "    <tr>\n",
       "      <th>17</th>\n",
       "      <td>S001904</td>\n",
       "      <td>ATMOS 41</td>\n",
       "      <td>2023-04-11T00:00:00Z</td>\n",
       "      <td>2199-01-01T00:00:00Z</td>\n",
       "      <td>1</td>\n",
       "      <td>2.0</td>\n",
       "    </tr>\n",
       "    <tr>\n",
       "      <th>18</th>\n",
       "      <td>S000132</td>\n",
       "      <td>ATMOS 41</td>\n",
       "      <td>2017-01-26T00:00:00Z</td>\n",
       "      <td>2023-09-05T08:30:00Z</td>\n",
       "      <td>1</td>\n",
       "      <td>2.0</td>\n",
       "    </tr>\n",
       "    <tr>\n",
       "      <th>19</th>\n",
       "      <td>S001401</td>\n",
       "      <td>ATMOS 41</td>\n",
       "      <td>2020-06-24T00:00:00Z</td>\n",
       "      <td>2199-01-01T00:00:00Z</td>\n",
       "      <td>1</td>\n",
       "      <td>2.0</td>\n",
       "    </tr>\n",
       "    <tr>\n",
       "      <th>20</th>\n",
       "      <td>S000134</td>\n",
       "      <td>ATMOS 41</td>\n",
       "      <td>2017-01-14T12:00:00Z</td>\n",
       "      <td>2020-06-24T00:00:00Z</td>\n",
       "      <td>1</td>\n",
       "      <td>2.0</td>\n",
       "    </tr>\n",
       "    <tr>\n",
       "      <th>21</th>\n",
       "      <td>S000135</td>\n",
       "      <td>ATMOS 41</td>\n",
       "      <td>2017-01-13T18:00:00Z</td>\n",
       "      <td>2199-01-01T00:00:00Z</td>\n",
       "      <td>1</td>\n",
       "      <td>2.0</td>\n",
       "    </tr>\n",
       "    <tr>\n",
       "      <th>22</th>\n",
       "      <td>S000147</td>\n",
       "      <td>ATMOS 41</td>\n",
       "      <td>2017-02-14T00:00:00Z</td>\n",
       "      <td>2024-07-29T00:00:00Z</td>\n",
       "      <td>1</td>\n",
       "      <td>2.0</td>\n",
       "    </tr>\n",
       "    <tr>\n",
       "      <th>23</th>\n",
       "      <td>S002464</td>\n",
       "      <td>ATMOS 41</td>\n",
       "      <td>2024-07-29T00:00:00Z</td>\n",
       "      <td>2199-01-01T00:00:00Z</td>\n",
       "      <td>1</td>\n",
       "      <td>2.0</td>\n",
       "    </tr>\n",
       "    <tr>\n",
       "      <th>24</th>\n",
       "      <td>S000261</td>\n",
       "      <td>ATMOS 41</td>\n",
       "      <td>2017-10-02T00:00:00Z</td>\n",
       "      <td>2199-01-01T00:00:00Z</td>\n",
       "      <td>1</td>\n",
       "      <td>2.0</td>\n",
       "    </tr>\n",
       "    <tr>\n",
       "      <th>25</th>\n",
       "      <td>S000264</td>\n",
       "      <td>ATMOS 41</td>\n",
       "      <td>2017-10-05T00:00:00Z</td>\n",
       "      <td>2023-09-29T00:00:00Z</td>\n",
       "      <td>1</td>\n",
       "      <td>2.0</td>\n",
       "    </tr>\n",
       "    <tr>\n",
       "      <th>26</th>\n",
       "      <td>S001714</td>\n",
       "      <td>ATMOS 41</td>\n",
       "      <td>2023-09-29T00:00:00Z</td>\n",
       "      <td>2199-01-01T00:00:00Z</td>\n",
       "      <td>1</td>\n",
       "      <td>2.0</td>\n",
       "    </tr>\n",
       "    <tr>\n",
       "      <th>27</th>\n",
       "      <td>S000269</td>\n",
       "      <td>ATMOS 41</td>\n",
       "      <td>2017-10-06T00:00:00Z</td>\n",
       "      <td>2023-08-04T00:00:00Z</td>\n",
       "      <td>1</td>\n",
       "      <td>2.0</td>\n",
       "    </tr>\n",
       "    <tr>\n",
       "      <th>28</th>\n",
       "      <td>S000275</td>\n",
       "      <td>ATMOS 41</td>\n",
       "      <td>2017-10-09T00:00:00Z</td>\n",
       "      <td>2199-01-01T00:00:00Z</td>\n",
       "      <td>1</td>\n",
       "      <td>2.0</td>\n",
       "    </tr>\n",
       "    <tr>\n",
       "      <th>29</th>\n",
       "      <td>S000313</td>\n",
       "      <td>ATMOS 41</td>\n",
       "      <td>2017-10-21T00:00:00Z</td>\n",
       "      <td>2199-01-01T00:00:00Z</td>\n",
       "      <td>1</td>\n",
       "      <td>2.0</td>\n",
       "    </tr>\n",
       "    <tr>\n",
       "      <th>30</th>\n",
       "      <td>S001520</td>\n",
       "      <td>ATMOS 41</td>\n",
       "      <td>2020-12-10T00:00:00Z</td>\n",
       "      <td>2199-01-01T00:00:00Z</td>\n",
       "      <td>1</td>\n",
       "      <td>2.0</td>\n",
       "    </tr>\n",
       "    <tr>\n",
       "      <th>31</th>\n",
       "      <td>S000314</td>\n",
       "      <td>ATMOS 41</td>\n",
       "      <td>2017-11-18T00:00:00Z</td>\n",
       "      <td>2020-12-10T00:00:00Z</td>\n",
       "      <td>1</td>\n",
       "      <td>2.0</td>\n",
       "    </tr>\n",
       "    <tr>\n",
       "      <th>32</th>\n",
       "      <td>S000400</td>\n",
       "      <td>ATMOS 41</td>\n",
       "      <td>2018-02-24T00:00:00Z</td>\n",
       "      <td>2199-01-01T00:00:00Z</td>\n",
       "      <td>1</td>\n",
       "      <td>2.0</td>\n",
       "    </tr>\n",
       "    <tr>\n",
       "      <th>33</th>\n",
       "      <td>S000401</td>\n",
       "      <td>ATMOS 41</td>\n",
       "      <td>2018-03-01T00:00:00Z</td>\n",
       "      <td>2199-01-01T00:00:00Z</td>\n",
       "      <td>1</td>\n",
       "      <td>2.0</td>\n",
       "    </tr>\n",
       "    <tr>\n",
       "      <th>34</th>\n",
       "      <td>S000986</td>\n",
       "      <td>ATMOS 41</td>\n",
       "      <td>2019-04-24T00:00:00Z</td>\n",
       "      <td>2199-01-01T00:00:00Z</td>\n",
       "      <td>1</td>\n",
       "      <td>2.5</td>\n",
       "    </tr>\n",
       "    <tr>\n",
       "      <th>35</th>\n",
       "      <td>S001208</td>\n",
       "      <td>ATMOS 41</td>\n",
       "      <td>2019-07-19T00:00:00Z</td>\n",
       "      <td>2020-04-21T00:00:00Z</td>\n",
       "      <td>1</td>\n",
       "      <td>2.0</td>\n",
       "    </tr>\n",
       "    <tr>\n",
       "      <th>36</th>\n",
       "      <td>S001376</td>\n",
       "      <td>ATMOS 41</td>\n",
       "      <td>2020-04-21T00:00:00Z</td>\n",
       "      <td>2199-01-01T00:00:00Z</td>\n",
       "      <td>1</td>\n",
       "      <td>2.0</td>\n",
       "    </tr>\n",
       "    <tr>\n",
       "      <th>37</th>\n",
       "      <td>S000631</td>\n",
       "      <td>ECRN-100</td>\n",
       "      <td>2021-08-25T00:00:00Z</td>\n",
       "      <td>2022-02-16T00:00:00Z</td>\n",
       "      <td>4</td>\n",
       "      <td>1.5</td>\n",
       "    </tr>\n",
       "    <tr>\n",
       "      <th>38</th>\n",
       "      <td>S001321</td>\n",
       "      <td>ATMOS 41</td>\n",
       "      <td>2019-12-13T00:00:00Z</td>\n",
       "      <td>2022-02-16T00:00:00Z</td>\n",
       "      <td>1</td>\n",
       "      <td>2.0</td>\n",
       "    </tr>\n",
       "    <tr>\n",
       "      <th>39</th>\n",
       "      <td>S001725</td>\n",
       "      <td>ATMOS 41</td>\n",
       "      <td>2022-02-16T00:00:00Z</td>\n",
       "      <td>2199-01-01T00:00:00Z</td>\n",
       "      <td>1</td>\n",
       "      <td>2.0</td>\n",
       "    </tr>\n",
       "    <tr>\n",
       "      <th>40</th>\n",
       "      <td>S001324</td>\n",
       "      <td>ATMOS 41</td>\n",
       "      <td>2019-12-14T00:00:00Z</td>\n",
       "      <td>2199-01-01T00:00:00Z</td>\n",
       "      <td>1</td>\n",
       "      <td>2.0</td>\n",
       "    </tr>\n",
       "    <tr>\n",
       "      <th>41</th>\n",
       "      <td>S001630</td>\n",
       "      <td>ATMOS 41</td>\n",
       "      <td>2021-05-26T00:00:00Z</td>\n",
       "      <td>2199-01-01T00:00:00Z</td>\n",
       "      <td>1</td>\n",
       "      <td>2.0</td>\n",
       "    </tr>\n",
       "  </tbody>\n",
       "</table>\n",
       "</div>"
      ],
      "text/plain": [
       "   sensor code sensor name     installation date   deinstallation date  \\\n",
       "0      S001402    ATMOS 41  2020-06-25T00:00:00Z  2199-01-01T00:00:00Z   \n",
       "1      S001188    ATMOS 41  2019-07-02T00:00:00Z  2020-06-25T00:00:00Z   \n",
       "2      S001233    ATMOS 41  2019-09-08T00:00:00Z  2199-01-01T00:00:00Z   \n",
       "3      S001234    ATMOS 41  2019-09-08T00:00:00Z  2023-06-04T17:00:00Z   \n",
       "4      S001944    ATMOS 41  2023-06-04T17:05:00Z  2199-01-01T00:00:00Z   \n",
       "5      S001566    ATMOS 41  2021-05-18T00:00:00Z  2023-07-12T00:00:00Z   \n",
       "6      S001212    ATMOS 41  2019-07-11T00:00:00Z  2021-05-18T00:00:00Z   \n",
       "7      S001955    ATMOS 41  2023-07-12T00:00:00Z  2199-01-01T00:00:00Z   \n",
       "8      S000711    ATMOS 41  2018-05-23T00:00:00Z  2199-01-01T00:00:00Z   \n",
       "9      S000127    ATMOS 41  2017-01-29T00:00:00Z  2020-09-14T00:00:00Z   \n",
       "10     S001418    ATMOS 41  2020-09-14T00:00:00Z  2199-01-01T00:00:00Z   \n",
       "11     S001420    ATMOS 41  2023-08-04T00:00:00Z  2199-01-01T00:00:00Z   \n",
       "12     S000125    ATMOS 41  2020-06-22T00:00:00Z  2020-08-17T00:00:00Z   \n",
       "13     S000130    ATMOS 41  2017-01-27T00:00:00Z  2019-11-22T00:00:00Z   \n",
       "14     S000276    ATMOS 41  2020-08-17T00:00:00Z  2020-09-27T00:00:00Z   \n",
       "15     S002023    ATMOS 41  2023-08-15T00:00:00Z  2199-01-01T00:00:00Z   \n",
       "16     S000131    ATMOS 41  2017-01-26T00:00:00Z  2023-04-11T00:00:00Z   \n",
       "17     S001904    ATMOS 41  2023-04-11T00:00:00Z  2199-01-01T00:00:00Z   \n",
       "18     S000132    ATMOS 41  2017-01-26T00:00:00Z  2023-09-05T08:30:00Z   \n",
       "19     S001401    ATMOS 41  2020-06-24T00:00:00Z  2199-01-01T00:00:00Z   \n",
       "20     S000134    ATMOS 41  2017-01-14T12:00:00Z  2020-06-24T00:00:00Z   \n",
       "21     S000135    ATMOS 41  2017-01-13T18:00:00Z  2199-01-01T00:00:00Z   \n",
       "22     S000147    ATMOS 41  2017-02-14T00:00:00Z  2024-07-29T00:00:00Z   \n",
       "23     S002464    ATMOS 41  2024-07-29T00:00:00Z  2199-01-01T00:00:00Z   \n",
       "24     S000261    ATMOS 41  2017-10-02T00:00:00Z  2199-01-01T00:00:00Z   \n",
       "25     S000264    ATMOS 41  2017-10-05T00:00:00Z  2023-09-29T00:00:00Z   \n",
       "26     S001714    ATMOS 41  2023-09-29T00:00:00Z  2199-01-01T00:00:00Z   \n",
       "27     S000269    ATMOS 41  2017-10-06T00:00:00Z  2023-08-04T00:00:00Z   \n",
       "28     S000275    ATMOS 41  2017-10-09T00:00:00Z  2199-01-01T00:00:00Z   \n",
       "29     S000313    ATMOS 41  2017-10-21T00:00:00Z  2199-01-01T00:00:00Z   \n",
       "30     S001520    ATMOS 41  2020-12-10T00:00:00Z  2199-01-01T00:00:00Z   \n",
       "31     S000314    ATMOS 41  2017-11-18T00:00:00Z  2020-12-10T00:00:00Z   \n",
       "32     S000400    ATMOS 41  2018-02-24T00:00:00Z  2199-01-01T00:00:00Z   \n",
       "33     S000401    ATMOS 41  2018-03-01T00:00:00Z  2199-01-01T00:00:00Z   \n",
       "34     S000986    ATMOS 41  2019-04-24T00:00:00Z  2199-01-01T00:00:00Z   \n",
       "35     S001208    ATMOS 41  2019-07-19T00:00:00Z  2020-04-21T00:00:00Z   \n",
       "36     S001376    ATMOS 41  2020-04-21T00:00:00Z  2199-01-01T00:00:00Z   \n",
       "37     S000631    ECRN-100  2021-08-25T00:00:00Z  2022-02-16T00:00:00Z   \n",
       "38     S001321    ATMOS 41  2019-12-13T00:00:00Z  2022-02-16T00:00:00Z   \n",
       "39     S001725    ATMOS 41  2022-02-16T00:00:00Z  2199-01-01T00:00:00Z   \n",
       "40     S001324    ATMOS 41  2019-12-14T00:00:00Z  2199-01-01T00:00:00Z   \n",
       "41     S001630    ATMOS 41  2021-05-26T00:00:00Z  2199-01-01T00:00:00Z   \n",
       "\n",
       "    port number  installation height (m)  \n",
       "0             1                      2.0  \n",
       "1             1                      2.0  \n",
       "2             1                      2.0  \n",
       "3             1                      2.0  \n",
       "4             1                      2.0  \n",
       "5             1                      2.0  \n",
       "6             1                      2.0  \n",
       "7             1                      2.0  \n",
       "8             1                      2.0  \n",
       "9             1                      2.0  \n",
       "10            1                      2.0  \n",
       "11            1                      2.0  \n",
       "12            1                      2.0  \n",
       "13            1                      2.0  \n",
       "14            1                      2.0  \n",
       "15            1                      2.0  \n",
       "16            1                      2.0  \n",
       "17            1                      2.0  \n",
       "18            1                      2.0  \n",
       "19            1                      2.0  \n",
       "20            1                      2.0  \n",
       "21            1                      2.0  \n",
       "22            1                      2.0  \n",
       "23            1                      2.0  \n",
       "24            1                      2.0  \n",
       "25            1                      2.0  \n",
       "26            1                      2.0  \n",
       "27            1                      2.0  \n",
       "28            1                      2.0  \n",
       "29            1                      2.0  \n",
       "30            1                      2.0  \n",
       "31            1                      2.0  \n",
       "32            1                      2.0  \n",
       "33            1                      2.0  \n",
       "34            1                      2.5  \n",
       "35            1                      2.0  \n",
       "36            1                      2.0  \n",
       "37            4                      1.5  \n",
       "38            1                      2.0  \n",
       "39            1                      2.0  \n",
       "40            1                      2.0  \n",
       "41            1                      2.0  "
      ]
     },
     "metadata": {},
     "output_type": "display_data"
    }
   ],
   "source": [
    "# Load TAHMO station data (CSV format with columns:'precipitation')\n",
    "tahmo_root_dir = r'C:\\Users\\c.kwa\\Desktop\\meteosat_retrieval\\data_downloads\\TAHMO\\TAHMO_export_6704eaa37e81da18c0b7e245'\n",
    "\n",
    "\n",
    "station_name_list_tahmo = []\n",
    "station_data_list_TAHMO = []\n",
    "for station in os.listdir(tahmo_root_dir):\n",
    "    if station.endswith('.csv'):\n",
    "        station_file = os.path.join(tahmo_root_dir, station)\n",
    "        station_data = pd.read_csv(station_file)\n",
    "        station_name_list_tahmo.append(station.split('.')[0])\n",
    "        station_data_list_TAHMO.append(station_data)\n",
    "\n",
    "station_data_tahmo_dict = dict(zip(station_name_list_tahmo, station_data_list_TAHMO))\n",
    "\n",
    "stations_meta_data_TAHMO = station_data_tahmo_dict.pop('stations_metadata')\n",
    "stations_sensor_data = station_data_tahmo_dict.pop('sensors_metadata')\n",
    "\n",
    "display(stations_meta_data_TAHMO)\n",
    "display(stations_sensor_data)"
   ]
  },
  {
   "cell_type": "code",
   "execution_count": 4,
   "id": "a3589557-8ea0-4fde-8a6b-9ae12b802d81",
   "metadata": {},
   "outputs": [
    {
     "data": {
      "text/html": [
       "<div>\n",
       "<style scoped>\n",
       "    .dataframe tbody tr th:only-of-type {\n",
       "        vertical-align: middle;\n",
       "    }\n",
       "\n",
       "    .dataframe tbody tr th {\n",
       "        vertical-align: top;\n",
       "    }\n",
       "\n",
       "    .dataframe thead th {\n",
       "        text-align: right;\n",
       "    }\n",
       "</style>\n",
       "<table border=\"1\" class=\"dataframe\">\n",
       "  <thead>\n",
       "    <tr style=\"text-align: right;\">\n",
       "      <th></th>\n",
       "      <th>STN</th>\n",
       "      <th>LON</th>\n",
       "      <th>LAT</th>\n",
       "    </tr>\n",
       "  </thead>\n",
       "  <tbody>\n",
       "    <tr>\n",
       "      <th>0</th>\n",
       "      <td>Abetifi</td>\n",
       "      <td>-0.747020</td>\n",
       "      <td>6.680400</td>\n",
       "    </tr>\n",
       "    <tr>\n",
       "      <th>1</th>\n",
       "      <td>Ada_Foah</td>\n",
       "      <td>0.617981</td>\n",
       "      <td>5.831201</td>\n",
       "    </tr>\n",
       "    <tr>\n",
       "      <th>2</th>\n",
       "      <td>Akim_Oda</td>\n",
       "      <td>-0.978370</td>\n",
       "      <td>5.929300</td>\n",
       "    </tr>\n",
       "    <tr>\n",
       "      <th>3</th>\n",
       "      <td>Akosombo</td>\n",
       "      <td>0.056591</td>\n",
       "      <td>6.291360</td>\n",
       "    </tr>\n",
       "    <tr>\n",
       "      <th>4</th>\n",
       "      <td>Akuse</td>\n",
       "      <td>0.119290</td>\n",
       "      <td>6.094600</td>\n",
       "    </tr>\n",
       "    <tr>\n",
       "      <th>5</th>\n",
       "      <td>Axim</td>\n",
       "      <td>-2.237005</td>\n",
       "      <td>4.864180</td>\n",
       "    </tr>\n",
       "    <tr>\n",
       "      <th>6</th>\n",
       "      <td>Enchi</td>\n",
       "      <td>-2.823720</td>\n",
       "      <td>5.823700</td>\n",
       "    </tr>\n",
       "    <tr>\n",
       "      <th>7</th>\n",
       "      <td>Jirapa</td>\n",
       "      <td>-2.719410</td>\n",
       "      <td>10.534580</td>\n",
       "    </tr>\n",
       "    <tr>\n",
       "      <th>8</th>\n",
       "      <td>Kalbeo</td>\n",
       "      <td>-0.887150</td>\n",
       "      <td>10.752900</td>\n",
       "    </tr>\n",
       "    <tr>\n",
       "      <th>9</th>\n",
       "      <td>Kpandai</td>\n",
       "      <td>-0.017880</td>\n",
       "      <td>8.484500</td>\n",
       "    </tr>\n",
       "    <tr>\n",
       "      <th>10</th>\n",
       "      <td>Loagri</td>\n",
       "      <td>-0.827940</td>\n",
       "      <td>10.255940</td>\n",
       "    </tr>\n",
       "    <tr>\n",
       "      <th>11</th>\n",
       "      <td>Nakpamboni</td>\n",
       "      <td>-0.077532</td>\n",
       "      <td>9.694249</td>\n",
       "    </tr>\n",
       "    <tr>\n",
       "      <th>12</th>\n",
       "      <td>Sefwi_Bekwai</td>\n",
       "      <td>-2.312700</td>\n",
       "      <td>6.204200</td>\n",
       "    </tr>\n",
       "    <tr>\n",
       "      <th>13</th>\n",
       "      <td>Tarkwa</td>\n",
       "      <td>-1.992645</td>\n",
       "      <td>5.313868</td>\n",
       "    </tr>\n",
       "    <tr>\n",
       "      <th>14</th>\n",
       "      <td>Tema</td>\n",
       "      <td>0.001710</td>\n",
       "      <td>5.632240</td>\n",
       "    </tr>\n",
       "    <tr>\n",
       "      <th>15</th>\n",
       "      <td>Tolon</td>\n",
       "      <td>-1.058121</td>\n",
       "      <td>8.029315</td>\n",
       "    </tr>\n",
       "    <tr>\n",
       "      <th>16</th>\n",
       "      <td>Varenpare</td>\n",
       "      <td>-2.534490</td>\n",
       "      <td>10.041190</td>\n",
       "    </tr>\n",
       "    <tr>\n",
       "      <th>17</th>\n",
       "      <td>Yendi</td>\n",
       "      <td>-0.014762</td>\n",
       "      <td>9.490350</td>\n",
       "    </tr>\n",
       "  </tbody>\n",
       "</table>\n",
       "</div>"
      ],
      "text/plain": [
       "             STN       LON        LAT\n",
       "0        Abetifi -0.747020   6.680400\n",
       "1       Ada_Foah  0.617981   5.831201\n",
       "2       Akim_Oda -0.978370   5.929300\n",
       "3       Akosombo  0.056591   6.291360\n",
       "4          Akuse  0.119290   6.094600\n",
       "5           Axim -2.237005   4.864180\n",
       "6          Enchi -2.823720   5.823700\n",
       "7         Jirapa -2.719410  10.534580\n",
       "8         Kalbeo -0.887150  10.752900\n",
       "9        Kpandai -0.017880   8.484500\n",
       "10        Loagri -0.827940  10.255940\n",
       "11    Nakpamboni -0.077532   9.694249\n",
       "12  Sefwi_Bekwai -2.312700   6.204200\n",
       "13        Tarkwa -1.992645   5.313868\n",
       "14          Tema  0.001710   5.632240\n",
       "15         Tolon -1.058121   8.029315\n",
       "16     Varenpare -2.534490  10.041190\n",
       "17         Yendi -0.014762   9.490350"
      ]
     },
     "metadata": {},
     "output_type": "display_data"
    },
    {
     "data": {
      "text/html": [
       "<div>\n",
       "<style scoped>\n",
       "    .dataframe tbody tr th:only-of-type {\n",
       "        vertical-align: middle;\n",
       "    }\n",
       "\n",
       "    .dataframe tbody tr th {\n",
       "        vertical-align: top;\n",
       "    }\n",
       "\n",
       "    .dataframe thead th {\n",
       "        text-align: right;\n",
       "    }\n",
       "</style>\n",
       "<table border=\"1\" class=\"dataframe\">\n",
       "  <thead>\n",
       "    <tr style=\"text-align: right;\">\n",
       "      <th></th>\n",
       "      <th>Date</th>\n",
       "      <th>Time</th>\n",
       "      <th>Precipitation (mm)</th>\n",
       "    </tr>\n",
       "  </thead>\n",
       "  <tbody>\n",
       "    <tr>\n",
       "      <th>0</th>\n",
       "      <td>1/1/2020</td>\n",
       "      <td>12:00:00 AM</td>\n",
       "      <td>0</td>\n",
       "    </tr>\n",
       "    <tr>\n",
       "      <th>1</th>\n",
       "      <td>1/1/2020</td>\n",
       "      <td>12:15:00 AM</td>\n",
       "      <td>0</td>\n",
       "    </tr>\n",
       "    <tr>\n",
       "      <th>2</th>\n",
       "      <td>1/1/2020</td>\n",
       "      <td>12:30:00 AM</td>\n",
       "      <td>0</td>\n",
       "    </tr>\n",
       "    <tr>\n",
       "      <th>3</th>\n",
       "      <td>1/1/2020</td>\n",
       "      <td>12:45:00 AM</td>\n",
       "      <td>0</td>\n",
       "    </tr>\n",
       "    <tr>\n",
       "      <th>4</th>\n",
       "      <td>1/1/2020</td>\n",
       "      <td>1:00:00 AM</td>\n",
       "      <td>0</td>\n",
       "    </tr>\n",
       "    <tr>\n",
       "      <th>...</th>\n",
       "      <td>...</td>\n",
       "      <td>...</td>\n",
       "      <td>...</td>\n",
       "    </tr>\n",
       "    <tr>\n",
       "      <th>135264</th>\n",
       "      <td>12/31/2023</td>\n",
       "      <td>10:45:00 PM</td>\n",
       "      <td>0</td>\n",
       "    </tr>\n",
       "    <tr>\n",
       "      <th>135265</th>\n",
       "      <td>12/31/2023</td>\n",
       "      <td>11:00:00 PM</td>\n",
       "      <td>0</td>\n",
       "    </tr>\n",
       "    <tr>\n",
       "      <th>135266</th>\n",
       "      <td>12/31/2023</td>\n",
       "      <td>11:15:00 PM</td>\n",
       "      <td>0</td>\n",
       "    </tr>\n",
       "    <tr>\n",
       "      <th>135267</th>\n",
       "      <td>12/31/2023</td>\n",
       "      <td>11:30:00 PM</td>\n",
       "      <td>0</td>\n",
       "    </tr>\n",
       "    <tr>\n",
       "      <th>135268</th>\n",
       "      <td>12/31/2023</td>\n",
       "      <td>11:45:00 PM</td>\n",
       "      <td>0</td>\n",
       "    </tr>\n",
       "  </tbody>\n",
       "</table>\n",
       "<p>135269 rows × 3 columns</p>\n",
       "</div>"
      ],
      "text/plain": [
       "              Date         Time Precipitation (mm)\n",
       "0         1/1/2020  12:00:00 AM                  0\n",
       "1         1/1/2020  12:15:00 AM                  0\n",
       "2         1/1/2020  12:30:00 AM                  0\n",
       "3         1/1/2020  12:45:00 AM                  0\n",
       "4         1/1/2020   1:00:00 AM                  0\n",
       "...            ...          ...                ...\n",
       "135264  12/31/2023  10:45:00 PM                  0\n",
       "135265  12/31/2023  11:00:00 PM                  0\n",
       "135266  12/31/2023  11:15:00 PM                  0\n",
       "135267  12/31/2023  11:30:00 PM                  0\n",
       "135268  12/31/2023  11:45:00 PM                  0\n",
       "\n",
       "[135269 rows x 3 columns]"
      ]
     },
     "metadata": {},
     "output_type": "display_data"
    }
   ],
   "source": [
    "# Load TAHMO station data (CSV format with columns:'precipitation')\n",
    "gmet_root_dir = r'C:\\Users\\c.kwa\\Desktop\\meteosat_retrieval\\data_downloads\\GMET\\GMet_AWSdata\\GMet_AWSdata'\n",
    "\n",
    "station_data_list_GMET = []\n",
    "station_name_list = []\n",
    "for station in os.listdir(gmet_root_dir):\n",
    "    if station.endswith('.csv'):\n",
    "        station_file = os.path.join(gmet_root_dir, station)\n",
    "        station_data = pd.read_csv(station_file)\n",
    "        station_data_list_GMET.append(station_data)\n",
    "        station_name_list.append(station.split('.')[0])\n",
    "    #display(station_data)\n",
    "\n",
    "stations_meta_data_GMET = station_data_list_GMET.pop(7)\n",
    "station_name_list = stations_meta_data_GMET['STN'].tolist()\n",
    "\n",
    "station_data_gmet_dict = dict(zip(station_name_list, station_data_list_GMET))\n",
    "\n",
    "display(stations_meta_data_GMET)\n",
    "\n",
    "display(station_data_gmet_dict['Abetifi'])"
   ]
  },
  {
   "cell_type": "code",
   "execution_count": 5,
   "id": "e66d1551-74c4-40e1-b148-36eb6897776c",
   "metadata": {},
   "outputs": [],
   "source": [
    "\n",
    "# Define intervals and colors\n",
    "vmin, vmax = 0, 154\n",
    "intervals = [vmin, 0.2, 0.3, 0.6, 0.9, 1.7, 2.7, 5, 8.6, 15, 27.3, 50, 89.9, vmax]\n",
    "colors = ['#fffffe', '#0101ff', '#0153ff', '#00acfe', '#01feff',\n",
    "          '#8cff8c', '#fffe01', '#ff8d01', '#fe4300', '#f60100',\n",
    "          '#bc0030', '#ad01ac', '#ff00ff']\n",
    "\n",
    "# Create custom colormap and normalization\n",
    "custom_cmap = LinearSegmentedColormap.from_list('custom_colormap', colors)\n",
    "custom_norm = BoundaryNorm(intervals, custom_cmap.N)"
   ]
  },
  {
   "cell_type": "code",
   "execution_count": 6,
   "id": "ca4e8285-0099-437d-b942-0ee8534cd57e",
   "metadata": {},
   "outputs": [],
   "source": [
    "def generate_gif_imerg(imerg_dir, date, time_range, dataset_path, version, output_gif, plot_tahmo, plot_gmet, tahmo_stations, gmet_stations, lat_bounds=None, lon_bounds=None):\n",
    "    timestamps = generate_timestamps(date, time_range)\n",
    "    images = []\n",
    "    \n",
    "    for timestamp in timestamps:\n",
    "        print(timestamp)\n",
    "        fig, ax = plt.subplots(figsize=(10, 8), subplot_kw={'projection': ccrs.PlateCarree()})\n",
    "        \n",
    "        file_path = construct_imerg_filepath(imerg_dir, timestamp, version)\n",
    "        if os.path.exists(file_path):\n",
    "            plot_data(ax, file_path, dataset_path, custom_cmap, custom_norm, plot_tahmo, plot_gmet, tahmo_stations, gmet_stations, lat_bounds, lon_bounds)\n",
    "            if 'NRT'in imerg_dir:\n",
    "                plt.title(f\"IMERG-Early {timestamp.strftime('%H:%M')} UTC\", fontsize=30)\n",
    "\n",
    "            else:\n",
    "                plt.title(f\"IMERG-Final {timestamp.strftime('%H:%M')} UTC\", fontsize=30)\n",
    "            \n",
    "            temp_image = f\"temp_{timestamp.strftime('%Y%m%d%H%M')}.png\"\n",
    "            plt.savefig(temp_image)\n",
    "            images.append(imageio.imread(temp_image))\n",
    "            os.remove(temp_image)\n",
    "        \n",
    "        plt.close(fig)\n",
    "    \n",
    "    imageio.mimsave(output_gif, images, duration=5)\n",
    "\n",
    "def generate_gif_model(model_dir, date, time_range, variable_name, output_gif, plot_tahmo, plot_gmet, tahmo_stations, gmet_stations, lat_bounds=None, lon_bounds=None):\n",
    "    timestamps = generate_timestamps(date, time_range)\n",
    "    images = []\n",
    "    \n",
    "    for timestamp in timestamps:\n",
    "        fig, ax = plt.subplots(figsize=(10, 8), subplot_kw={'projection': ccrs.PlateCarree()})\n",
    "        \n",
    "        file_path = os.path.join(model_dir, f\"Combined_{(timestamp - timedelta(seconds=1)).strftime('%Y%m%d%H%M%S')}.h.h5\")\n",
    "        if os.path.exists(file_path):\n",
    "            plot_data_model(ax, file_path, variable_name, custom_cmap, custom_norm, plot_tahmo, plot_gmet, tahmo_stations, gmet_stations, lat_bounds, lon_bounds)\n",
    "            if '129'in model_dir:\n",
    "                plt.title(f\"Earthformer MSE loss {timestamp.strftime('%H:%M')} UTC\", fontsize=30)\n",
    "\n",
    "            else:\n",
    "                plt.title(f\"Earthformer Balanced loss {timestamp.strftime('%H:%M')} UTC\", fontsize=30)\n",
    "\n",
    "            \n",
    "            temp_image = f\"temp_{timestamp.strftime('%Y%m%d%H%M')}.png\"\n",
    "            plt.savefig(temp_image)\n",
    "            images.append(imageio.imread(temp_image))\n",
    "            os.remove(temp_image)\n",
    "        \n",
    "        plt.close(fig)\n",
    "    \n",
    "    imageio.mimsave(output_gif, images, duration=5)\n",
    "\n",
    "def generate_timestamps(date, time_range):\n",
    "    start_time = datetime.strptime(date, '%Y%m%d') + timedelta(hours=time_range[0])\n",
    "    end_time = datetime.strptime(date, '%Y%m%d') + timedelta(hours=time_range[1])\n",
    "    \n",
    "    timestamps = []\n",
    "    current_time = start_time\n",
    "    while current_time <= end_time:\n",
    "        timestamps.append(current_time)\n",
    "        timestamps.append(current_time + timedelta(minutes=30))\n",
    "        current_time += timedelta(hours=1)\n",
    "    \n",
    "    return timestamps\n",
    "\n",
    "def time_to_minutes(time_str):\n",
    "        time_obj = datetime.strptime(time_str, '%Y-%m-%d %H:%M:%S')\n",
    "        minutes = time_obj.hour * 60 + time_obj.minute - 30\n",
    "        return f\"{minutes:04d}\" if minutes > 0 else \"0000\"\n",
    "\n",
    "def construct_imerg_filepath(imerg_dir, timestamp, version):\n",
    "    if timestamp.strftime('%H') == 0:\n",
    "        if timestamp.minute == 0:\n",
    "            imerg_time = timestamp -timedelta(seconds = 1)\n",
    "            imerg_hour = '23'\n",
    "            start_minute = '3'\n",
    "            end_minute = '5959'\n",
    "        else:\n",
    "            imerg_time = timestamp\n",
    "            imerg_hour = '00'\n",
    "            start_minute = '0'\n",
    "            end_minute = '2959'\n",
    "    else:\n",
    "        imerg_time = timestamp - timedelta(hours=1) if timestamp.minute == 0 else timestamp\n",
    "        imerg_hour = imerg_time.strftime('%H')\n",
    "        minutes = f\"{imerg_time.minute:02d}00\"\n",
    "        \n",
    "        # return os.path.join(\n",
    "        #     imerg_dir,\n",
    "        #     imerg_time.strftime('%Y/%m/%d'),\n",
    "        #     f\"3B-HHR.MS.MRG.3IMERG.{imerg_time.strftime('%Y%m%d')}-S{imerg_hour}0000-E{imerg_hour}5959.{minutes}.V07B.HDF5\"\n",
    "        # )\n",
    "    \n",
    "        hour_str = timestamp.strftime('%H:%M')\n",
    "            \n",
    "        minutes = time_to_minutes(timestamp.strftime(\"%Y-%m-%d %H:%M:%S\"))\n",
    "    \n",
    "        if timestamp.minute == 0:\n",
    "            end_minute = \"5959\"\n",
    "            start_minute = '3'\n",
    "            imerg_time = timestamp - timedelta(hours=1)\n",
    "            imerg_hour = imerg_time.strftime('%H')\n",
    "        else:\n",
    "            end_minute = \"2959\"\n",
    "            start_minute = '0'\n",
    "            imerg_time = timestamp #- timedelta(hours=1)\n",
    "            imerg_hour = imerg_time.strftime('%H')\n",
    "\n",
    "    if 'NRT' in imerg_dir:\n",
    "        imerg_file = os.path.join(\n",
    "            imerg_dir,\n",
    "            timestamp.strftime('%Y/%m/%d'),\n",
    "            f\"3B-HHR-E.MS.MRG.3IMERG.{imerg_time.strftime('%Y%m%d')}-S{imerg_hour}{start_minute}000-E{imerg_hour}{end_minute}.{minutes}.V06{version}.HDF5\"\n",
    "        )\n",
    "    else:\n",
    "        imerg_file = os.path.join(\n",
    "            imerg_dir,\n",
    "            timestamp.strftime('%Y/%m/%d'),\n",
    "            f\"3B-HHR.MS.MRG.3IMERG.{imerg_time.strftime('%Y%m%d')}-S{imerg_hour}{start_minute}000-E{imerg_hour}{end_minute}.{minutes}.V07B.HDF5\"\n",
    "        )\n",
    "\n",
    "    return imerg_file\n",
    "\n",
    "    \n",
    "\n",
    "\n",
    "\n",
    "    \n",
    "\n",
    "def plot_data(ax, file_path, dataset_path, cmap, norm, plot_tahmo, plot_gmet, tahmo_stations, gmet_stations, lat_bounds, lon_bounds):\n",
    "    with h5py.File(file_path, 'r') as f:\n",
    "        data = f[dataset_path][:]\n",
    "        lon = f['Grid/lon'][:]\n",
    "        lat = f['Grid/lat'][:]\n",
    "        data = np.flipud(np.squeeze(data.T))\n",
    "        \n",
    "        if lon.ndim == 1 and lat.ndim == 1:\n",
    "            lon, lat = np.meshgrid(lon, lat)\n",
    "            lat = np.flipud(lat)\n",
    "\n",
    "        mesh = ax.pcolormesh(lon, lat, data, cmap=cmap, norm=norm, transform=ccrs.PlateCarree(), shading='auto')\n",
    "        \n",
    "        if lat_bounds and lon_bounds:\n",
    "            ax.set_extent([lon_bounds[0], lon_bounds[1], lat_bounds[0], lat_bounds[1]], crs=ccrs.PlateCarree())\n",
    "        \n",
    "        ax.add_feature(cfeature.BORDERS, linestyle='-', edgecolor='black')\n",
    "        ax.add_feature(cfeature.COASTLINE, linewidth=0.5)\n",
    "        # Customize gridline label font size and padding\n",
    "        gl = ax.gridlines(draw_labels=True, dms=True, x_inline=False, y_inline=False)\n",
    "        gl.top_labels = False\n",
    "        gl.right_labels = False\n",
    "        gl.xlabel_style = {'size': 25, 'rotation': 0}  # Longitude label style\n",
    "        gl.ylabel_style = {'size': 25, 'rotation': 0}\n",
    "        #ax.set_title(title, fontsize = 25)\n",
    "\n",
    "        # Add station markers\n",
    "        if plot_tahmo:\n",
    "            # Filter only the stations in the provided list\n",
    "            selected_stations_tahmo = stations_meta_data_TAHMO[stations_meta_data_TAHMO[\"station code\"].isin(tahmo_stations)]\n",
    "            \n",
    "            # Scatter plot for selected stations\n",
    "            ax.scatter(selected_stations_tahmo[\"longitude\"], selected_stations_tahmo[\"latitude\"], \n",
    "                       color='black', s=120, label='TAHMO Stations', transform=ccrs.PlateCarree())\n",
    "        \n",
    "            # Add station labels\n",
    "            for _, row in selected_stations_tahmo.iterrows():\n",
    "                ax.text(row[\"longitude\"] + 0.05, row[\"latitude\"] + 0.05, row[\"station code\"], \n",
    "                        fontsize=16, transform=ccrs.PlateCarree())\n",
    "\n",
    "        if plot_gmet:\n",
    "            # Filter only the stations in the provided list\n",
    "            selected_stations_gmet = stations_meta_data_GMET[stations_meta_data_GMET[\"STN\"].isin(gmet_stations)]\n",
    "            \n",
    "            # Scatter plot for selected stations\n",
    "            ax.scatter(selected_stations_gmet[\"LON\"], selected_stations_gmet[\"LAT\"], \n",
    "                       color='black', s=120, label='GMET Stations', transform=ccrs.PlateCarree())\n",
    "        \n",
    "            # Add station labels\n",
    "            for _, row in selected_stations_gmet.iterrows():\n",
    "                ax.text(row[\"LON\"] + 0.05, row[\"LAT\"] + 0.05, row[\"STN\"], \n",
    "                        fontsize=16, transform=ccrs.PlateCarree())\n",
    "\n",
    "def plot_data_model(ax, file_path, variable_name, cmap, norm, plot_tahmo, plot_gmet, tahmo_stations, gmet_stations, lat_bounds, lon_bounds):\n",
    "    ds = xr.open_dataset(file_path, engine='netcdf4')\n",
    "    data = np.flipud(np.squeeze(ds[variable_name].values))\n",
    "    lon = lon_model\n",
    "    lat = lat_model\n",
    "    mesh = ax.pcolormesh(lon, lat, data, cmap=cmap, norm=norm, transform=ccrs.PlateCarree())\n",
    "    \n",
    "    \n",
    "    if lat_bounds and lon_bounds:\n",
    "        ax.set_extent([lon_bounds[0], lon_bounds[1], lat_bounds[0], lat_bounds[1]], crs=ccrs.PlateCarree())\n",
    "    \n",
    "    ax.add_feature(cfeature.BORDERS, linestyle='-', edgecolor='black')\n",
    "    ax.add_feature(cfeature.COASTLINE, linewidth=0.5)\n",
    "    # Customize gridline label font size and padding\n",
    "    gl = ax.gridlines(draw_labels=True, dms=True, x_inline=False, y_inline=False)\n",
    "    gl.top_labels = False\n",
    "    gl.right_labels = False\n",
    "    gl.xlabel_style = {'size': 25, 'rotation': 0}  # Longitude label style\n",
    "    gl.ylabel_style = {'size': 25, 'rotation': 0}\n",
    "    #ax.set_title(title, fontsize = 25)\n",
    "\n",
    "    if lat_bounds and lon_bounds:\n",
    "        ax.set_extent([lon_bounds[0], lon_bounds[1], lat_bounds[0], lat_bounds[1]], crs=ccrs.PlateCarree())\n",
    "    \n",
    "    # Add station markers\n",
    "    if plot_tahmo:\n",
    "        # Filter only the stations in the provided list\n",
    "        selected_stations_tahmo = stations_meta_data_TAHMO[stations_meta_data_TAHMO[\"station code\"].isin(tahmo_stations)]\n",
    "        \n",
    "        # Scatter plot for selected stations\n",
    "        ax.scatter(selected_stations_tahmo[\"longitude\"], selected_stations_tahmo[\"latitude\"], \n",
    "                   color='black', s=120, label='TAHMO Stations', transform=ccrs.PlateCarree())\n",
    "    \n",
    "        # Add station labels\n",
    "        for _, row in selected_stations_tahmo.iterrows():\n",
    "            ax.text(row[\"longitude\"] + 0.05, row[\"latitude\"] + 0.05, row[\"station code\"], \n",
    "                    fontsize=16, transform=ccrs.PlateCarree())\n",
    "    \n",
    "    if plot_gmet:\n",
    "        # Filter only the stations in the provided list\n",
    "        selected_stations_gmet = stations_meta_data_GMET[stations_meta_data_GMET[\"STN\"].isin(gmet_stations)]\n",
    "        \n",
    "        # Scatter plot for selected stations\n",
    "        ax.scatter(selected_stations_gmet[\"LON\"], selected_stations_gmet[\"LAT\"], \n",
    "                   color='black', s=120, label='GMET Stations', transform=ccrs.PlateCarree())\n",
    "    \n",
    "        # Add station labels\n",
    "        for _, row in selected_stations_gmet.iterrows():\n",
    "            ax.text(row[\"LON\"] + 0.05, row[\"LAT\"] + 0.05, row[\"STN\"], \n",
    "                    fontsize=16, transform=ccrs.PlateCarree())\n"
   ]
  },
  {
   "cell_type": "code",
   "execution_count": 7,
   "id": "ec6c2ed0-2eba-4b0e-b295-39b573b95fb1",
   "metadata": {},
   "outputs": [],
   "source": [
    "def generate_gif_imerg2(imerg_dir, start_datetime, end_datetime, dataset_path, version, output_gif, plot_tahmo, plot_gmet, tahmo_stations, gmet_stations, lat_bounds=None, lon_bounds=None):\n",
    "    timestamps = generate_timestamps2(start_datetime, end_datetime)\n",
    "    images = []\n",
    "    \n",
    "    for timestamp in timestamps:\n",
    "        fig, ax = plt.subplots(figsize=(10, 8), subplot_kw={'projection': ccrs.PlateCarree()})\n",
    "        \n",
    "        file_path = construct_imerg_filepath(imerg_dir, timestamp, version)\n",
    "        if os.path.exists(file_path):\n",
    "            plot_data(ax, file_path, dataset_path, custom_cmap, custom_norm, plot_tahmo, plot_gmet, tahmo_stations, gmet_stations, lat_bounds, lon_bounds)\n",
    "            if 'NRT' in imerg_dir:\n",
    "                plt.title(f\"IMERG-Early {timestamp.strftime('%H:%M')} UTC\", fontsize=30)\n",
    "            else:\n",
    "                plt.title(f\"IMERG-Final {timestamp.strftime('%H:%M')} UTC\", fontsize=30)\n",
    "            \n",
    "            temp_image = f\"temp_{timestamp.strftime('%Y%m%d%H%M')}.png\"\n",
    "            plt.savefig(temp_image)\n",
    "            images.append(imageio.imread(temp_image))\n",
    "            os.remove(temp_image)\n",
    "        \n",
    "        plt.close(fig)\n",
    "    \n",
    "    imageio.mimsave(output_gif, images, duration=5)\n",
    "\n",
    "\n",
    "def generate_gif_model2(model_dir, start_datetime, end_datetime, variable_name, output_gif, plot_tahmo, plot_gmet, tahmo_stations, gmet_stations, lat_bounds=None, lon_bounds=None):\n",
    "    timestamps = generate_timestamps2(start_datetime, end_datetime)\n",
    "    images = []\n",
    "    \n",
    "    for timestamp in timestamps:\n",
    "        fig, ax = plt.subplots(figsize=(10, 8), subplot_kw={'projection': ccrs.PlateCarree()})\n",
    "        \n",
    "        file_path = os.path.join(model_dir, f\"Combined_{(timestamp - timedelta(seconds=1)).strftime('%Y%m%d%H%M%S')}.h.h5\")\n",
    "        if os.path.exists(file_path):\n",
    "            plot_data_model(ax, file_path, variable_name, custom_cmap, custom_norm, plot_tahmo, plot_gmet, tahmo_stations, gmet_stations, lat_bounds, lon_bounds)\n",
    "            if '129' in model_dir:\n",
    "                plt.title(f\"Earthformer MSE loss {timestamp.strftime('%H:%M')} UTC\", fontsize=30)\n",
    "            else:\n",
    "                plt.title(f\"Earthformer Balanced loss {timestamp.strftime('%H:%M')} UTC\", fontsize=30)\n",
    "            \n",
    "            temp_image = f\"temp_{timestamp.strftime('%Y%m%d%H%M')}.png\"\n",
    "            plt.savefig(temp_image)\n",
    "            images.append(imageio.imread(temp_image))\n",
    "            os.remove(temp_image)\n",
    "        \n",
    "        plt.close(fig)\n",
    "    \n",
    "    imageio.mimsave(output_gif, images, duration=5)\n",
    "\n",
    "\n",
    "def generate_timestamps2(start_datetime, end_datetime):\n",
    "    start_time = datetime.strptime(start_datetime, '%Y%m%d%H%M%S')\n",
    "    end_time = datetime.strptime(end_datetime, '%Y%m%d%H%M%S')\n",
    "    \n",
    "    timestamps = []\n",
    "    current_time = start_time\n",
    "    while current_time <= end_time:\n",
    "        timestamps.append(current_time)\n",
    "        timestamps.append(current_time + timedelta(minutes=30))\n",
    "        current_time += timedelta(hours=1)\n",
    "    \n",
    "    return timestamps"
   ]
  },
  {
   "cell_type": "code",
   "execution_count": 24,
   "id": "23774736-3142-48a6-9f83-848d2566cf3d",
   "metadata": {},
   "outputs": [
    {
     "name": "stderr",
     "output_type": "stream",
     "text": [
      "C:\\Users\\c.kwa\\AppData\\Local\\Temp\\ipykernel_25596\\758586117.py:18: DeprecationWarning: Starting with ImageIO v3 the behavior of this function will switch to that of iio.v3.imread. To keep the current behavior (and make this warning disappear) use `import imageio.v2 as imageio` or call `imageio.v2.imread` directly.\n",
      "  images.append(imageio.imread(temp_image))\n",
      "C:\\Users\\c.kwa\\AppData\\Local\\Temp\\ipykernel_25596\\758586117.py:18: DeprecationWarning: Starting with ImageIO v3 the behavior of this function will switch to that of iio.v3.imread. To keep the current behavior (and make this warning disappear) use `import imageio.v2 as imageio` or call `imageio.v2.imread` directly.\n",
      "  images.append(imageio.imread(temp_image))\n",
      "C:\\Users\\c.kwa\\AppData\\Local\\Temp\\ipykernel_25596\\758586117.py:18: DeprecationWarning: Starting with ImageIO v3 the behavior of this function will switch to that of iio.v3.imread. To keep the current behavior (and make this warning disappear) use `import imageio.v2 as imageio` or call `imageio.v2.imread` directly.\n",
      "  images.append(imageio.imread(temp_image))\n",
      "C:\\Users\\c.kwa\\AppData\\Local\\Temp\\ipykernel_25596\\758586117.py:18: DeprecationWarning: Starting with ImageIO v3 the behavior of this function will switch to that of iio.v3.imread. To keep the current behavior (and make this warning disappear) use `import imageio.v2 as imageio` or call `imageio.v2.imread` directly.\n",
      "  images.append(imageio.imread(temp_image))\n",
      "C:\\Users\\c.kwa\\AppData\\Local\\Temp\\ipykernel_25596\\758586117.py:18: DeprecationWarning: Starting with ImageIO v3 the behavior of this function will switch to that of iio.v3.imread. To keep the current behavior (and make this warning disappear) use `import imageio.v2 as imageio` or call `imageio.v2.imread` directly.\n",
      "  images.append(imageio.imread(temp_image))\n",
      "C:\\Users\\c.kwa\\AppData\\Local\\Temp\\ipykernel_25596\\758586117.py:18: DeprecationWarning: Starting with ImageIO v3 the behavior of this function will switch to that of iio.v3.imread. To keep the current behavior (and make this warning disappear) use `import imageio.v2 as imageio` or call `imageio.v2.imread` directly.\n",
      "  images.append(imageio.imread(temp_image))\n",
      "C:\\Users\\c.kwa\\AppData\\Local\\Temp\\ipykernel_25596\\758586117.py:18: DeprecationWarning: Starting with ImageIO v3 the behavior of this function will switch to that of iio.v3.imread. To keep the current behavior (and make this warning disappear) use `import imageio.v2 as imageio` or call `imageio.v2.imread` directly.\n",
      "  images.append(imageio.imread(temp_image))\n",
      "C:\\Users\\c.kwa\\AppData\\Local\\Temp\\ipykernel_25596\\758586117.py:18: DeprecationWarning: Starting with ImageIO v3 the behavior of this function will switch to that of iio.v3.imread. To keep the current behavior (and make this warning disappear) use `import imageio.v2 as imageio` or call `imageio.v2.imread` directly.\n",
      "  images.append(imageio.imread(temp_image))\n",
      "C:\\Users\\c.kwa\\AppData\\Local\\Temp\\ipykernel_25596\\758586117.py:18: DeprecationWarning: Starting with ImageIO v3 the behavior of this function will switch to that of iio.v3.imread. To keep the current behavior (and make this warning disappear) use `import imageio.v2 as imageio` or call `imageio.v2.imread` directly.\n",
      "  images.append(imageio.imread(temp_image))\n",
      "C:\\Users\\c.kwa\\AppData\\Local\\Temp\\ipykernel_25596\\758586117.py:18: DeprecationWarning: Starting with ImageIO v3 the behavior of this function will switch to that of iio.v3.imread. To keep the current behavior (and make this warning disappear) use `import imageio.v2 as imageio` or call `imageio.v2.imread` directly.\n",
      "  images.append(imageio.imread(temp_image))\n",
      "C:\\Users\\c.kwa\\AppData\\Local\\Temp\\ipykernel_25596\\758586117.py:18: DeprecationWarning: Starting with ImageIO v3 the behavior of this function will switch to that of iio.v3.imread. To keep the current behavior (and make this warning disappear) use `import imageio.v2 as imageio` or call `imageio.v2.imread` directly.\n",
      "  images.append(imageio.imread(temp_image))\n",
      "C:\\Users\\c.kwa\\AppData\\Local\\Temp\\ipykernel_25596\\758586117.py:18: DeprecationWarning: Starting with ImageIO v3 the behavior of this function will switch to that of iio.v3.imread. To keep the current behavior (and make this warning disappear) use `import imageio.v2 as imageio` or call `imageio.v2.imread` directly.\n",
      "  images.append(imageio.imread(temp_image))\n",
      "C:\\Users\\c.kwa\\AppData\\Local\\Temp\\ipykernel_25596\\758586117.py:18: DeprecationWarning: Starting with ImageIO v3 the behavior of this function will switch to that of iio.v3.imread. To keep the current behavior (and make this warning disappear) use `import imageio.v2 as imageio` or call `imageio.v2.imread` directly.\n",
      "  images.append(imageio.imread(temp_image))\n",
      "C:\\Users\\c.kwa\\AppData\\Local\\Temp\\ipykernel_25596\\758586117.py:18: DeprecationWarning: Starting with ImageIO v3 the behavior of this function will switch to that of iio.v3.imread. To keep the current behavior (and make this warning disappear) use `import imageio.v2 as imageio` or call `imageio.v2.imread` directly.\n",
      "  images.append(imageio.imread(temp_image))\n",
      "C:\\Users\\c.kwa\\AppData\\Local\\Temp\\ipykernel_25596\\758586117.py:18: DeprecationWarning: Starting with ImageIO v3 the behavior of this function will switch to that of iio.v3.imread. To keep the current behavior (and make this warning disappear) use `import imageio.v2 as imageio` or call `imageio.v2.imread` directly.\n",
      "  images.append(imageio.imread(temp_image))\n",
      "C:\\Users\\c.kwa\\AppData\\Local\\Temp\\ipykernel_25596\\758586117.py:18: DeprecationWarning: Starting with ImageIO v3 the behavior of this function will switch to that of iio.v3.imread. To keep the current behavior (and make this warning disappear) use `import imageio.v2 as imageio` or call `imageio.v2.imread` directly.\n",
      "  images.append(imageio.imread(temp_image))\n",
      "C:\\Users\\c.kwa\\AppData\\Local\\Temp\\ipykernel_25596\\758586117.py:18: DeprecationWarning: Starting with ImageIO v3 the behavior of this function will switch to that of iio.v3.imread. To keep the current behavior (and make this warning disappear) use `import imageio.v2 as imageio` or call `imageio.v2.imread` directly.\n",
      "  images.append(imageio.imread(temp_image))\n",
      "C:\\Users\\c.kwa\\AppData\\Local\\Temp\\ipykernel_25596\\758586117.py:18: DeprecationWarning: Starting with ImageIO v3 the behavior of this function will switch to that of iio.v3.imread. To keep the current behavior (and make this warning disappear) use `import imageio.v2 as imageio` or call `imageio.v2.imread` directly.\n",
      "  images.append(imageio.imread(temp_image))\n",
      "C:\\Users\\c.kwa\\AppData\\Local\\Temp\\ipykernel_25596\\758586117.py:18: DeprecationWarning: Starting with ImageIO v3 the behavior of this function will switch to that of iio.v3.imread. To keep the current behavior (and make this warning disappear) use `import imageio.v2 as imageio` or call `imageio.v2.imread` directly.\n",
      "  images.append(imageio.imread(temp_image))\n",
      "C:\\Users\\c.kwa\\AppData\\Local\\Temp\\ipykernel_25596\\758586117.py:18: DeprecationWarning: Starting with ImageIO v3 the behavior of this function will switch to that of iio.v3.imread. To keep the current behavior (and make this warning disappear) use `import imageio.v2 as imageio` or call `imageio.v2.imread` directly.\n",
      "  images.append(imageio.imread(temp_image))\n",
      "C:\\Users\\c.kwa\\AppData\\Local\\Temp\\ipykernel_25596\\758586117.py:18: DeprecationWarning: Starting with ImageIO v3 the behavior of this function will switch to that of iio.v3.imread. To keep the current behavior (and make this warning disappear) use `import imageio.v2 as imageio` or call `imageio.v2.imread` directly.\n",
      "  images.append(imageio.imread(temp_image))\n",
      "C:\\Users\\c.kwa\\AppData\\Local\\Temp\\ipykernel_25596\\758586117.py:18: DeprecationWarning: Starting with ImageIO v3 the behavior of this function will switch to that of iio.v3.imread. To keep the current behavior (and make this warning disappear) use `import imageio.v2 as imageio` or call `imageio.v2.imread` directly.\n",
      "  images.append(imageio.imread(temp_image))\n",
      "C:\\Users\\c.kwa\\AppData\\Local\\Temp\\ipykernel_25596\\758586117.py:18: DeprecationWarning: Starting with ImageIO v3 the behavior of this function will switch to that of iio.v3.imread. To keep the current behavior (and make this warning disappear) use `import imageio.v2 as imageio` or call `imageio.v2.imread` directly.\n",
      "  images.append(imageio.imread(temp_image))\n",
      "C:\\Users\\c.kwa\\AppData\\Local\\Temp\\ipykernel_25596\\758586117.py:18: DeprecationWarning: Starting with ImageIO v3 the behavior of this function will switch to that of iio.v3.imread. To keep the current behavior (and make this warning disappear) use `import imageio.v2 as imageio` or call `imageio.v2.imread` directly.\n",
      "  images.append(imageio.imread(temp_image))\n",
      "C:\\Users\\c.kwa\\AppData\\Local\\Temp\\ipykernel_25596\\758586117.py:18: DeprecationWarning: Starting with ImageIO v3 the behavior of this function will switch to that of iio.v3.imread. To keep the current behavior (and make this warning disappear) use `import imageio.v2 as imageio` or call `imageio.v2.imread` directly.\n",
      "  images.append(imageio.imread(temp_image))\n",
      "C:\\Users\\c.kwa\\AppData\\Local\\Temp\\ipykernel_25596\\758586117.py:18: DeprecationWarning: Starting with ImageIO v3 the behavior of this function will switch to that of iio.v3.imread. To keep the current behavior (and make this warning disappear) use `import imageio.v2 as imageio` or call `imageio.v2.imread` directly.\n",
      "  images.append(imageio.imread(temp_image))\n",
      "C:\\Users\\c.kwa\\AppData\\Local\\Temp\\ipykernel_25596\\758586117.py:18: DeprecationWarning: Starting with ImageIO v3 the behavior of this function will switch to that of iio.v3.imread. To keep the current behavior (and make this warning disappear) use `import imageio.v2 as imageio` or call `imageio.v2.imread` directly.\n",
      "  images.append(imageio.imread(temp_image))\n",
      "C:\\Users\\c.kwa\\AppData\\Local\\Temp\\ipykernel_25596\\758586117.py:18: DeprecationWarning: Starting with ImageIO v3 the behavior of this function will switch to that of iio.v3.imread. To keep the current behavior (and make this warning disappear) use `import imageio.v2 as imageio` or call `imageio.v2.imread` directly.\n",
      "  images.append(imageio.imread(temp_image))\n",
      "C:\\Users\\c.kwa\\AppData\\Local\\Temp\\ipykernel_25596\\758586117.py:18: DeprecationWarning: Starting with ImageIO v3 the behavior of this function will switch to that of iio.v3.imread. To keep the current behavior (and make this warning disappear) use `import imageio.v2 as imageio` or call `imageio.v2.imread` directly.\n",
      "  images.append(imageio.imread(temp_image))\n",
      "C:\\Users\\c.kwa\\AppData\\Local\\Temp\\ipykernel_25596\\758586117.py:18: DeprecationWarning: Starting with ImageIO v3 the behavior of this function will switch to that of iio.v3.imread. To keep the current behavior (and make this warning disappear) use `import imageio.v2 as imageio` or call `imageio.v2.imread` directly.\n",
      "  images.append(imageio.imread(temp_image))\n",
      "C:\\Users\\c.kwa\\AppData\\Local\\Temp\\ipykernel_25596\\758586117.py:18: DeprecationWarning: Starting with ImageIO v3 the behavior of this function will switch to that of iio.v3.imread. To keep the current behavior (and make this warning disappear) use `import imageio.v2 as imageio` or call `imageio.v2.imread` directly.\n",
      "  images.append(imageio.imread(temp_image))\n",
      "C:\\Users\\c.kwa\\AppData\\Local\\Temp\\ipykernel_25596\\758586117.py:18: DeprecationWarning: Starting with ImageIO v3 the behavior of this function will switch to that of iio.v3.imread. To keep the current behavior (and make this warning disappear) use `import imageio.v2 as imageio` or call `imageio.v2.imread` directly.\n",
      "  images.append(imageio.imread(temp_image))\n",
      "C:\\Users\\c.kwa\\AppData\\Local\\Temp\\ipykernel_25596\\758586117.py:18: DeprecationWarning: Starting with ImageIO v3 the behavior of this function will switch to that of iio.v3.imread. To keep the current behavior (and make this warning disappear) use `import imageio.v2 as imageio` or call `imageio.v2.imread` directly.\n",
      "  images.append(imageio.imread(temp_image))\n",
      "C:\\Users\\c.kwa\\AppData\\Local\\Temp\\ipykernel_25596\\758586117.py:18: DeprecationWarning: Starting with ImageIO v3 the behavior of this function will switch to that of iio.v3.imread. To keep the current behavior (and make this warning disappear) use `import imageio.v2 as imageio` or call `imageio.v2.imread` directly.\n",
      "  images.append(imageio.imread(temp_image))\n",
      "C:\\Users\\c.kwa\\AppData\\Local\\Temp\\ipykernel_25596\\758586117.py:18: DeprecationWarning: Starting with ImageIO v3 the behavior of this function will switch to that of iio.v3.imread. To keep the current behavior (and make this warning disappear) use `import imageio.v2 as imageio` or call `imageio.v2.imread` directly.\n",
      "  images.append(imageio.imread(temp_image))\n"
     ]
    }
   ],
   "source": [
    "# Example usage\n",
    "generate_gif_imerg2(\n",
    "    imerg_dir= \"D:/Ghana/IMERG_data/GPM/NRT/IMERG/IMERG-ER\", #\"D:/Ghana/IMERG_data/GPM/RS/V07/IMERG/IMERG-FR\",\n",
    "    start_datetime=\"20220722120000\",\n",
    "    end_datetime= \"20220723050000\",\n",
    "    dataset_path='Grid/precipitationCal',\n",
    "    version='C',\n",
    "    output_gif='imerg_early_Yendi_zoomed.gif',\n",
    "    plot_tahmo=False,\n",
    "    plot_gmet=True,\n",
    "    tahmo_stations=[],\n",
    "    gmet_stations=['Nakpamboni', 'Yendi'],\n",
    "    # lat_bounds=(np.min(lat_model), np.max(lat_model)),\n",
    "    # lon_bounds=(np.min(lon_model), np.max(lon_model))\n",
    "    lat_bounds=(9.3, 9.8),\n",
    "    lon_bounds=(-0.5, 0.5)\n",
    ")"
   ]
  },
  {
   "cell_type": "code",
   "execution_count": 34,
   "id": "60c27007-a207-4182-a14b-8f3dac25f59c",
   "metadata": {},
   "outputs": [
    {
     "name": "stderr",
     "output_type": "stream",
     "text": [
      "C:\\Users\\c.kwa\\AppData\\Local\\Temp\\ipykernel_25596\\758586117.py:43: DeprecationWarning: Starting with ImageIO v3 the behavior of this function will switch to that of iio.v3.imread. To keep the current behavior (and make this warning disappear) use `import imageio.v2 as imageio` or call `imageio.v2.imread` directly.\n",
      "  images.append(imageio.imread(temp_image))\n",
      "C:\\Users\\c.kwa\\AppData\\Local\\Temp\\ipykernel_25596\\758586117.py:43: DeprecationWarning: Starting with ImageIO v3 the behavior of this function will switch to that of iio.v3.imread. To keep the current behavior (and make this warning disappear) use `import imageio.v2 as imageio` or call `imageio.v2.imread` directly.\n",
      "  images.append(imageio.imread(temp_image))\n",
      "C:\\Users\\c.kwa\\AppData\\Local\\Temp\\ipykernel_25596\\758586117.py:43: DeprecationWarning: Starting with ImageIO v3 the behavior of this function will switch to that of iio.v3.imread. To keep the current behavior (and make this warning disappear) use `import imageio.v2 as imageio` or call `imageio.v2.imread` directly.\n",
      "  images.append(imageio.imread(temp_image))\n",
      "C:\\Users\\c.kwa\\AppData\\Local\\Temp\\ipykernel_25596\\758586117.py:43: DeprecationWarning: Starting with ImageIO v3 the behavior of this function will switch to that of iio.v3.imread. To keep the current behavior (and make this warning disappear) use `import imageio.v2 as imageio` or call `imageio.v2.imread` directly.\n",
      "  images.append(imageio.imread(temp_image))\n",
      "C:\\Users\\c.kwa\\AppData\\Local\\Temp\\ipykernel_25596\\758586117.py:43: DeprecationWarning: Starting with ImageIO v3 the behavior of this function will switch to that of iio.v3.imread. To keep the current behavior (and make this warning disappear) use `import imageio.v2 as imageio` or call `imageio.v2.imread` directly.\n",
      "  images.append(imageio.imread(temp_image))\n",
      "C:\\Users\\c.kwa\\AppData\\Local\\Temp\\ipykernel_25596\\758586117.py:43: DeprecationWarning: Starting with ImageIO v3 the behavior of this function will switch to that of iio.v3.imread. To keep the current behavior (and make this warning disappear) use `import imageio.v2 as imageio` or call `imageio.v2.imread` directly.\n",
      "  images.append(imageio.imread(temp_image))\n",
      "C:\\Users\\c.kwa\\AppData\\Local\\Temp\\ipykernel_25596\\758586117.py:43: DeprecationWarning: Starting with ImageIO v3 the behavior of this function will switch to that of iio.v3.imread. To keep the current behavior (and make this warning disappear) use `import imageio.v2 as imageio` or call `imageio.v2.imread` directly.\n",
      "  images.append(imageio.imread(temp_image))\n",
      "C:\\Users\\c.kwa\\AppData\\Local\\Temp\\ipykernel_25596\\758586117.py:43: DeprecationWarning: Starting with ImageIO v3 the behavior of this function will switch to that of iio.v3.imread. To keep the current behavior (and make this warning disappear) use `import imageio.v2 as imageio` or call `imageio.v2.imread` directly.\n",
      "  images.append(imageio.imread(temp_image))\n",
      "C:\\Users\\c.kwa\\AppData\\Local\\Temp\\ipykernel_25596\\758586117.py:43: DeprecationWarning: Starting with ImageIO v3 the behavior of this function will switch to that of iio.v3.imread. To keep the current behavior (and make this warning disappear) use `import imageio.v2 as imageio` or call `imageio.v2.imread` directly.\n",
      "  images.append(imageio.imread(temp_image))\n",
      "C:\\Users\\c.kwa\\AppData\\Local\\Temp\\ipykernel_25596\\758586117.py:43: DeprecationWarning: Starting with ImageIO v3 the behavior of this function will switch to that of iio.v3.imread. To keep the current behavior (and make this warning disappear) use `import imageio.v2 as imageio` or call `imageio.v2.imread` directly.\n",
      "  images.append(imageio.imread(temp_image))\n",
      "C:\\Users\\c.kwa\\AppData\\Local\\Temp\\ipykernel_25596\\758586117.py:43: DeprecationWarning: Starting with ImageIO v3 the behavior of this function will switch to that of iio.v3.imread. To keep the current behavior (and make this warning disappear) use `import imageio.v2 as imageio` or call `imageio.v2.imread` directly.\n",
      "  images.append(imageio.imread(temp_image))\n",
      "C:\\Users\\c.kwa\\AppData\\Local\\Temp\\ipykernel_25596\\758586117.py:43: DeprecationWarning: Starting with ImageIO v3 the behavior of this function will switch to that of iio.v3.imread. To keep the current behavior (and make this warning disappear) use `import imageio.v2 as imageio` or call `imageio.v2.imread` directly.\n",
      "  images.append(imageio.imread(temp_image))\n",
      "C:\\Users\\c.kwa\\AppData\\Local\\Temp\\ipykernel_25596\\758586117.py:43: DeprecationWarning: Starting with ImageIO v3 the behavior of this function will switch to that of iio.v3.imread. To keep the current behavior (and make this warning disappear) use `import imageio.v2 as imageio` or call `imageio.v2.imread` directly.\n",
      "  images.append(imageio.imread(temp_image))\n",
      "C:\\Users\\c.kwa\\AppData\\Local\\Temp\\ipykernel_25596\\758586117.py:43: DeprecationWarning: Starting with ImageIO v3 the behavior of this function will switch to that of iio.v3.imread. To keep the current behavior (and make this warning disappear) use `import imageio.v2 as imageio` or call `imageio.v2.imread` directly.\n",
      "  images.append(imageio.imread(temp_image))\n",
      "C:\\Users\\c.kwa\\AppData\\Local\\Temp\\ipykernel_25596\\758586117.py:43: DeprecationWarning: Starting with ImageIO v3 the behavior of this function will switch to that of iio.v3.imread. To keep the current behavior (and make this warning disappear) use `import imageio.v2 as imageio` or call `imageio.v2.imread` directly.\n",
      "  images.append(imageio.imread(temp_image))\n",
      "C:\\Users\\c.kwa\\AppData\\Local\\Temp\\ipykernel_25596\\758586117.py:43: DeprecationWarning: Starting with ImageIO v3 the behavior of this function will switch to that of iio.v3.imread. To keep the current behavior (and make this warning disappear) use `import imageio.v2 as imageio` or call `imageio.v2.imread` directly.\n",
      "  images.append(imageio.imread(temp_image))\n",
      "C:\\Users\\c.kwa\\AppData\\Local\\Temp\\ipykernel_25596\\758586117.py:43: DeprecationWarning: Starting with ImageIO v3 the behavior of this function will switch to that of iio.v3.imread. To keep the current behavior (and make this warning disappear) use `import imageio.v2 as imageio` or call `imageio.v2.imread` directly.\n",
      "  images.append(imageio.imread(temp_image))\n",
      "C:\\Users\\c.kwa\\AppData\\Local\\Temp\\ipykernel_25596\\758586117.py:43: DeprecationWarning: Starting with ImageIO v3 the behavior of this function will switch to that of iio.v3.imread. To keep the current behavior (and make this warning disappear) use `import imageio.v2 as imageio` or call `imageio.v2.imread` directly.\n",
      "  images.append(imageio.imread(temp_image))\n",
      "C:\\Users\\c.kwa\\AppData\\Local\\Temp\\ipykernel_25596\\758586117.py:43: DeprecationWarning: Starting with ImageIO v3 the behavior of this function will switch to that of iio.v3.imread. To keep the current behavior (and make this warning disappear) use `import imageio.v2 as imageio` or call `imageio.v2.imread` directly.\n",
      "  images.append(imageio.imread(temp_image))\n",
      "C:\\Users\\c.kwa\\AppData\\Local\\Temp\\ipykernel_25596\\758586117.py:43: DeprecationWarning: Starting with ImageIO v3 the behavior of this function will switch to that of iio.v3.imread. To keep the current behavior (and make this warning disappear) use `import imageio.v2 as imageio` or call `imageio.v2.imread` directly.\n",
      "  images.append(imageio.imread(temp_image))\n",
      "C:\\Users\\c.kwa\\AppData\\Local\\Temp\\ipykernel_25596\\758586117.py:43: DeprecationWarning: Starting with ImageIO v3 the behavior of this function will switch to that of iio.v3.imread. To keep the current behavior (and make this warning disappear) use `import imageio.v2 as imageio` or call `imageio.v2.imread` directly.\n",
      "  images.append(imageio.imread(temp_image))\n",
      "C:\\Users\\c.kwa\\AppData\\Local\\Temp\\ipykernel_25596\\758586117.py:43: DeprecationWarning: Starting with ImageIO v3 the behavior of this function will switch to that of iio.v3.imread. To keep the current behavior (and make this warning disappear) use `import imageio.v2 as imageio` or call `imageio.v2.imread` directly.\n",
      "  images.append(imageio.imread(temp_image))\n",
      "C:\\Users\\c.kwa\\AppData\\Local\\Temp\\ipykernel_25596\\758586117.py:43: DeprecationWarning: Starting with ImageIO v3 the behavior of this function will switch to that of iio.v3.imread. To keep the current behavior (and make this warning disappear) use `import imageio.v2 as imageio` or call `imageio.v2.imread` directly.\n",
      "  images.append(imageio.imread(temp_image))\n",
      "C:\\Users\\c.kwa\\AppData\\Local\\Temp\\ipykernel_25596\\758586117.py:43: DeprecationWarning: Starting with ImageIO v3 the behavior of this function will switch to that of iio.v3.imread. To keep the current behavior (and make this warning disappear) use `import imageio.v2 as imageio` or call `imageio.v2.imread` directly.\n",
      "  images.append(imageio.imread(temp_image))\n",
      "C:\\Users\\c.kwa\\AppData\\Local\\Temp\\ipykernel_25596\\758586117.py:43: DeprecationWarning: Starting with ImageIO v3 the behavior of this function will switch to that of iio.v3.imread. To keep the current behavior (and make this warning disappear) use `import imageio.v2 as imageio` or call `imageio.v2.imread` directly.\n",
      "  images.append(imageio.imread(temp_image))\n",
      "C:\\Users\\c.kwa\\AppData\\Local\\Temp\\ipykernel_25596\\758586117.py:43: DeprecationWarning: Starting with ImageIO v3 the behavior of this function will switch to that of iio.v3.imread. To keep the current behavior (and make this warning disappear) use `import imageio.v2 as imageio` or call `imageio.v2.imread` directly.\n",
      "  images.append(imageio.imread(temp_image))\n",
      "C:\\Users\\c.kwa\\AppData\\Local\\Temp\\ipykernel_25596\\758586117.py:43: DeprecationWarning: Starting with ImageIO v3 the behavior of this function will switch to that of iio.v3.imread. To keep the current behavior (and make this warning disappear) use `import imageio.v2 as imageio` or call `imageio.v2.imread` directly.\n",
      "  images.append(imageio.imread(temp_image))\n",
      "C:\\Users\\c.kwa\\AppData\\Local\\Temp\\ipykernel_25596\\758586117.py:43: DeprecationWarning: Starting with ImageIO v3 the behavior of this function will switch to that of iio.v3.imread. To keep the current behavior (and make this warning disappear) use `import imageio.v2 as imageio` or call `imageio.v2.imread` directly.\n",
      "  images.append(imageio.imread(temp_image))\n",
      "C:\\Users\\c.kwa\\AppData\\Local\\Temp\\ipykernel_25596\\758586117.py:43: DeprecationWarning: Starting with ImageIO v3 the behavior of this function will switch to that of iio.v3.imread. To keep the current behavior (and make this warning disappear) use `import imageio.v2 as imageio` or call `imageio.v2.imread` directly.\n",
      "  images.append(imageio.imread(temp_image))\n",
      "C:\\Users\\c.kwa\\AppData\\Local\\Temp\\ipykernel_25596\\758586117.py:43: DeprecationWarning: Starting with ImageIO v3 the behavior of this function will switch to that of iio.v3.imread. To keep the current behavior (and make this warning disappear) use `import imageio.v2 as imageio` or call `imageio.v2.imread` directly.\n",
      "  images.append(imageio.imread(temp_image))\n",
      "C:\\Users\\c.kwa\\AppData\\Local\\Temp\\ipykernel_25596\\758586117.py:43: DeprecationWarning: Starting with ImageIO v3 the behavior of this function will switch to that of iio.v3.imread. To keep the current behavior (and make this warning disappear) use `import imageio.v2 as imageio` or call `imageio.v2.imread` directly.\n",
      "  images.append(imageio.imread(temp_image))\n",
      "C:\\Users\\c.kwa\\AppData\\Local\\Temp\\ipykernel_25596\\758586117.py:43: DeprecationWarning: Starting with ImageIO v3 the behavior of this function will switch to that of iio.v3.imread. To keep the current behavior (and make this warning disappear) use `import imageio.v2 as imageio` or call `imageio.v2.imread` directly.\n",
      "  images.append(imageio.imread(temp_image))\n",
      "C:\\Users\\c.kwa\\AppData\\Local\\Temp\\ipykernel_25596\\758586117.py:43: DeprecationWarning: Starting with ImageIO v3 the behavior of this function will switch to that of iio.v3.imread. To keep the current behavior (and make this warning disappear) use `import imageio.v2 as imageio` or call `imageio.v2.imread` directly.\n",
      "  images.append(imageio.imread(temp_image))\n",
      "C:\\Users\\c.kwa\\AppData\\Local\\Temp\\ipykernel_25596\\758586117.py:43: DeprecationWarning: Starting with ImageIO v3 the behavior of this function will switch to that of iio.v3.imread. To keep the current behavior (and make this warning disappear) use `import imageio.v2 as imageio` or call `imageio.v2.imread` directly.\n",
      "  images.append(imageio.imread(temp_image))\n",
      "C:\\Users\\c.kwa\\AppData\\Local\\Temp\\ipykernel_25596\\758586117.py:43: DeprecationWarning: Starting with ImageIO v3 the behavior of this function will switch to that of iio.v3.imread. To keep the current behavior (and make this warning disappear) use `import imageio.v2 as imageio` or call `imageio.v2.imread` directly.\n",
      "  images.append(imageio.imread(temp_image))\n",
      "C:\\Users\\c.kwa\\AppData\\Local\\Temp\\ipykernel_25596\\758586117.py:43: DeprecationWarning: Starting with ImageIO v3 the behavior of this function will switch to that of iio.v3.imread. To keep the current behavior (and make this warning disappear) use `import imageio.v2 as imageio` or call `imageio.v2.imread` directly.\n",
      "  images.append(imageio.imread(temp_image))\n"
     ]
    }
   ],
   "source": [
    "generate_gif_model2(\n",
    "    model_dir= \"D:/Ghana/Output_data/experiments_adapted129/repotest/testOutput\", #\"D:/Ghana/Output_data/experiments_adapted130/repotest/testOutput\", # \n",
    "    start_datetime=\"20220722120000\",\n",
    "    end_datetime=\"20220723050000\",\n",
    "    variable_name='y_hat',\n",
    "    output_gif='Model_MSE_Yendi_zoomed.gif',\n",
    "    plot_tahmo=False,\n",
    "    plot_gmet=True,\n",
    "    tahmo_stations=[],\n",
    "    gmet_stations=['Nakpamboni', 'Yendi'],\n",
    "    # lat_bounds=(np.min(lat_model), np.max(lat_model)),\n",
    "    # lon_bounds=(np.min(lon_model), np.max(lon_model))\n",
    "    lat_bounds=(9.3, 9.8),\n",
    "    lon_bounds=(-0.5, 0.5)\n",
    ")"
   ]
  },
  {
   "cell_type": "code",
   "execution_count": 10,
   "id": "346eb189-e376-4adf-aa09-8640ec0d0151",
   "metadata": {},
   "outputs": [
    {
     "name": "stdout",
     "output_type": "stream",
     "text": [
      "2022-10-07 14:00:00\n"
     ]
    },
    {
     "name": "stderr",
     "output_type": "stream",
     "text": [
      "C:\\Users\\c.kwa\\AppData\\Local\\Temp\\ipykernel_22300\\3370927687.py:20: DeprecationWarning: Starting with ImageIO v3 the behavior of this function will switch to that of iio.v3.imread. To keep the current behavior (and make this warning disappear) use `import imageio.v2 as imageio` or call `imageio.v2.imread` directly.\n",
      "  images.append(imageio.imread(temp_image))\n"
     ]
    },
    {
     "name": "stdout",
     "output_type": "stream",
     "text": [
      "2022-10-07 14:30:00\n"
     ]
    },
    {
     "name": "stderr",
     "output_type": "stream",
     "text": [
      "C:\\Users\\c.kwa\\AppData\\Local\\Temp\\ipykernel_22300\\3370927687.py:20: DeprecationWarning: Starting with ImageIO v3 the behavior of this function will switch to that of iio.v3.imread. To keep the current behavior (and make this warning disappear) use `import imageio.v2 as imageio` or call `imageio.v2.imread` directly.\n",
      "  images.append(imageio.imread(temp_image))\n"
     ]
    },
    {
     "name": "stdout",
     "output_type": "stream",
     "text": [
      "2022-10-07 15:00:00\n"
     ]
    },
    {
     "name": "stderr",
     "output_type": "stream",
     "text": [
      "C:\\Users\\c.kwa\\AppData\\Local\\Temp\\ipykernel_22300\\3370927687.py:20: DeprecationWarning: Starting with ImageIO v3 the behavior of this function will switch to that of iio.v3.imread. To keep the current behavior (and make this warning disappear) use `import imageio.v2 as imageio` or call `imageio.v2.imread` directly.\n",
      "  images.append(imageio.imread(temp_image))\n"
     ]
    },
    {
     "name": "stdout",
     "output_type": "stream",
     "text": [
      "2022-10-07 15:30:00\n"
     ]
    },
    {
     "name": "stderr",
     "output_type": "stream",
     "text": [
      "C:\\Users\\c.kwa\\AppData\\Local\\Temp\\ipykernel_22300\\3370927687.py:20: DeprecationWarning: Starting with ImageIO v3 the behavior of this function will switch to that of iio.v3.imread. To keep the current behavior (and make this warning disappear) use `import imageio.v2 as imageio` or call `imageio.v2.imread` directly.\n",
      "  images.append(imageio.imread(temp_image))\n"
     ]
    },
    {
     "name": "stdout",
     "output_type": "stream",
     "text": [
      "2022-10-07 16:00:00\n"
     ]
    },
    {
     "name": "stderr",
     "output_type": "stream",
     "text": [
      "C:\\Users\\c.kwa\\AppData\\Local\\Temp\\ipykernel_22300\\3370927687.py:20: DeprecationWarning: Starting with ImageIO v3 the behavior of this function will switch to that of iio.v3.imread. To keep the current behavior (and make this warning disappear) use `import imageio.v2 as imageio` or call `imageio.v2.imread` directly.\n",
      "  images.append(imageio.imread(temp_image))\n"
     ]
    },
    {
     "name": "stdout",
     "output_type": "stream",
     "text": [
      "2022-10-07 16:30:00\n"
     ]
    },
    {
     "name": "stderr",
     "output_type": "stream",
     "text": [
      "C:\\Users\\c.kwa\\AppData\\Local\\Temp\\ipykernel_22300\\3370927687.py:20: DeprecationWarning: Starting with ImageIO v3 the behavior of this function will switch to that of iio.v3.imread. To keep the current behavior (and make this warning disappear) use `import imageio.v2 as imageio` or call `imageio.v2.imread` directly.\n",
      "  images.append(imageio.imread(temp_image))\n"
     ]
    },
    {
     "name": "stdout",
     "output_type": "stream",
     "text": [
      "2022-10-07 17:00:00\n"
     ]
    },
    {
     "name": "stderr",
     "output_type": "stream",
     "text": [
      "C:\\Users\\c.kwa\\AppData\\Local\\Temp\\ipykernel_22300\\3370927687.py:20: DeprecationWarning: Starting with ImageIO v3 the behavior of this function will switch to that of iio.v3.imread. To keep the current behavior (and make this warning disappear) use `import imageio.v2 as imageio` or call `imageio.v2.imread` directly.\n",
      "  images.append(imageio.imread(temp_image))\n"
     ]
    },
    {
     "name": "stdout",
     "output_type": "stream",
     "text": [
      "2022-10-07 17:30:00\n"
     ]
    },
    {
     "name": "stderr",
     "output_type": "stream",
     "text": [
      "C:\\Users\\c.kwa\\AppData\\Local\\Temp\\ipykernel_22300\\3370927687.py:20: DeprecationWarning: Starting with ImageIO v3 the behavior of this function will switch to that of iio.v3.imread. To keep the current behavior (and make this warning disappear) use `import imageio.v2 as imageio` or call `imageio.v2.imread` directly.\n",
      "  images.append(imageio.imread(temp_image))\n"
     ]
    },
    {
     "name": "stdout",
     "output_type": "stream",
     "text": [
      "2022-10-07 18:00:00\n"
     ]
    },
    {
     "name": "stderr",
     "output_type": "stream",
     "text": [
      "C:\\Users\\c.kwa\\AppData\\Local\\Temp\\ipykernel_22300\\3370927687.py:20: DeprecationWarning: Starting with ImageIO v3 the behavior of this function will switch to that of iio.v3.imread. To keep the current behavior (and make this warning disappear) use `import imageio.v2 as imageio` or call `imageio.v2.imread` directly.\n",
      "  images.append(imageio.imread(temp_image))\n"
     ]
    },
    {
     "name": "stdout",
     "output_type": "stream",
     "text": [
      "2022-10-07 18:30:00\n"
     ]
    },
    {
     "name": "stderr",
     "output_type": "stream",
     "text": [
      "C:\\Users\\c.kwa\\AppData\\Local\\Temp\\ipykernel_22300\\3370927687.py:20: DeprecationWarning: Starting with ImageIO v3 the behavior of this function will switch to that of iio.v3.imread. To keep the current behavior (and make this warning disappear) use `import imageio.v2 as imageio` or call `imageio.v2.imread` directly.\n",
      "  images.append(imageio.imread(temp_image))\n"
     ]
    },
    {
     "name": "stdout",
     "output_type": "stream",
     "text": [
      "2022-10-07 19:00:00\n"
     ]
    },
    {
     "name": "stderr",
     "output_type": "stream",
     "text": [
      "C:\\Users\\c.kwa\\AppData\\Local\\Temp\\ipykernel_22300\\3370927687.py:20: DeprecationWarning: Starting with ImageIO v3 the behavior of this function will switch to that of iio.v3.imread. To keep the current behavior (and make this warning disappear) use `import imageio.v2 as imageio` or call `imageio.v2.imread` directly.\n",
      "  images.append(imageio.imread(temp_image))\n"
     ]
    },
    {
     "name": "stdout",
     "output_type": "stream",
     "text": [
      "2022-10-07 19:30:00\n"
     ]
    },
    {
     "name": "stderr",
     "output_type": "stream",
     "text": [
      "C:\\Users\\c.kwa\\AppData\\Local\\Temp\\ipykernel_22300\\3370927687.py:20: DeprecationWarning: Starting with ImageIO v3 the behavior of this function will switch to that of iio.v3.imread. To keep the current behavior (and make this warning disappear) use `import imageio.v2 as imageio` or call `imageio.v2.imread` directly.\n",
      "  images.append(imageio.imread(temp_image))\n"
     ]
    },
    {
     "name": "stdout",
     "output_type": "stream",
     "text": [
      "2022-10-07 20:00:00\n"
     ]
    },
    {
     "name": "stderr",
     "output_type": "stream",
     "text": [
      "C:\\Users\\c.kwa\\AppData\\Local\\Temp\\ipykernel_22300\\3370927687.py:20: DeprecationWarning: Starting with ImageIO v3 the behavior of this function will switch to that of iio.v3.imread. To keep the current behavior (and make this warning disappear) use `import imageio.v2 as imageio` or call `imageio.v2.imread` directly.\n",
      "  images.append(imageio.imread(temp_image))\n"
     ]
    },
    {
     "name": "stdout",
     "output_type": "stream",
     "text": [
      "2022-10-07 20:30:00\n"
     ]
    },
    {
     "name": "stderr",
     "output_type": "stream",
     "text": [
      "C:\\Users\\c.kwa\\AppData\\Local\\Temp\\ipykernel_22300\\3370927687.py:20: DeprecationWarning: Starting with ImageIO v3 the behavior of this function will switch to that of iio.v3.imread. To keep the current behavior (and make this warning disappear) use `import imageio.v2 as imageio` or call `imageio.v2.imread` directly.\n",
      "  images.append(imageio.imread(temp_image))\n"
     ]
    },
    {
     "name": "stdout",
     "output_type": "stream",
     "text": [
      "2022-10-07 21:00:00\n"
     ]
    },
    {
     "name": "stderr",
     "output_type": "stream",
     "text": [
      "C:\\Users\\c.kwa\\AppData\\Local\\Temp\\ipykernel_22300\\3370927687.py:20: DeprecationWarning: Starting with ImageIO v3 the behavior of this function will switch to that of iio.v3.imread. To keep the current behavior (and make this warning disappear) use `import imageio.v2 as imageio` or call `imageio.v2.imread` directly.\n",
      "  images.append(imageio.imread(temp_image))\n"
     ]
    },
    {
     "name": "stdout",
     "output_type": "stream",
     "text": [
      "2022-10-07 21:30:00\n"
     ]
    },
    {
     "name": "stderr",
     "output_type": "stream",
     "text": [
      "C:\\Users\\c.kwa\\AppData\\Local\\Temp\\ipykernel_22300\\3370927687.py:20: DeprecationWarning: Starting with ImageIO v3 the behavior of this function will switch to that of iio.v3.imread. To keep the current behavior (and make this warning disappear) use `import imageio.v2 as imageio` or call `imageio.v2.imread` directly.\n",
      "  images.append(imageio.imread(temp_image))\n"
     ]
    },
    {
     "name": "stdout",
     "output_type": "stream",
     "text": [
      "2022-10-07 22:00:00\n"
     ]
    },
    {
     "name": "stderr",
     "output_type": "stream",
     "text": [
      "C:\\Users\\c.kwa\\AppData\\Local\\Temp\\ipykernel_22300\\3370927687.py:20: DeprecationWarning: Starting with ImageIO v3 the behavior of this function will switch to that of iio.v3.imread. To keep the current behavior (and make this warning disappear) use `import imageio.v2 as imageio` or call `imageio.v2.imread` directly.\n",
      "  images.append(imageio.imread(temp_image))\n"
     ]
    },
    {
     "name": "stdout",
     "output_type": "stream",
     "text": [
      "2022-10-07 22:30:00\n"
     ]
    },
    {
     "name": "stderr",
     "output_type": "stream",
     "text": [
      "C:\\Users\\c.kwa\\AppData\\Local\\Temp\\ipykernel_22300\\3370927687.py:20: DeprecationWarning: Starting with ImageIO v3 the behavior of this function will switch to that of iio.v3.imread. To keep the current behavior (and make this warning disappear) use `import imageio.v2 as imageio` or call `imageio.v2.imread` directly.\n",
      "  images.append(imageio.imread(temp_image))\n"
     ]
    },
    {
     "name": "stdout",
     "output_type": "stream",
     "text": [
      "2022-10-07 23:00:00\n"
     ]
    },
    {
     "name": "stderr",
     "output_type": "stream",
     "text": [
      "C:\\Users\\c.kwa\\AppData\\Local\\Temp\\ipykernel_22300\\3370927687.py:20: DeprecationWarning: Starting with ImageIO v3 the behavior of this function will switch to that of iio.v3.imread. To keep the current behavior (and make this warning disappear) use `import imageio.v2 as imageio` or call `imageio.v2.imread` directly.\n",
      "  images.append(imageio.imread(temp_image))\n"
     ]
    },
    {
     "name": "stdout",
     "output_type": "stream",
     "text": [
      "2022-10-07 23:30:00\n"
     ]
    },
    {
     "name": "stderr",
     "output_type": "stream",
     "text": [
      "C:\\Users\\c.kwa\\AppData\\Local\\Temp\\ipykernel_22300\\3370927687.py:20: DeprecationWarning: Starting with ImageIO v3 the behavior of this function will switch to that of iio.v3.imread. To keep the current behavior (and make this warning disappear) use `import imageio.v2 as imageio` or call `imageio.v2.imread` directly.\n",
      "  images.append(imageio.imread(temp_image))\n"
     ]
    }
   ],
   "source": [
    "# Example usage\n",
    "generate_gif_imerg(\n",
    "    imerg_dir= \"D:/Ghana/IMERG_data/GPM/NRT/IMERG/IMERG-ER\", #\"D:/Ghana/IMERG_data/GPM/RS/V07/IMERG/IMERG-FR\", #\"D:/Ghana/IMERG_data/GPM/NRT/IMERG/IMERG-ER\", #\"\n",
    "    date=\"20221007\",\n",
    "    time_range=(14, 23),\n",
    "    dataset_path = 'Grid/precipitationCal',\n",
    "    version='C',\n",
    "    output_gif = 'imerg_early_Akim_Oda_zoomed.gif',\n",
    "    plot_tahmo=True,\n",
    "    plot_gmet=True, \n",
    "    tahmo_stations = ['TA00302', 'TA00045'], \n",
    "    gmet_stations = ['Akosombo', 'Akuse', 'Akim_Oda'],\n",
    "    # lat_bounds=(np.min(lat_model), np.max(lat_model)),\n",
    "    # lon_bounds=(np.min(lon_model), np.max(lon_model))\n",
    "    lat_bounds=(5.8, 6.6),\n",
    "    lon_bounds=(-1.2, 0.4)\n",
    ")"
   ]
  },
  {
   "cell_type": "code",
   "execution_count": 12,
   "id": "d4e82a9d-da8f-4c01-bca5-9daee6afa0c7",
   "metadata": {},
   "outputs": [
    {
     "name": "stderr",
     "output_type": "stream",
     "text": [
      "C:\\Users\\c.kwa\\AppData\\Local\\Temp\\ipykernel_10352\\1939745950.py:46: DeprecationWarning: Starting with ImageIO v3 the behavior of this function will switch to that of iio.v3.imread. To keep the current behavior (and make this warning disappear) use `import imageio.v2 as imageio` or call `imageio.v2.imread` directly.\n",
      "  images.append(imageio.imread(temp_image))\n",
      "C:\\Users\\c.kwa\\AppData\\Local\\Temp\\ipykernel_10352\\1939745950.py:46: DeprecationWarning: Starting with ImageIO v3 the behavior of this function will switch to that of iio.v3.imread. To keep the current behavior (and make this warning disappear) use `import imageio.v2 as imageio` or call `imageio.v2.imread` directly.\n",
      "  images.append(imageio.imread(temp_image))\n",
      "C:\\Users\\c.kwa\\AppData\\Local\\Temp\\ipykernel_10352\\1939745950.py:46: DeprecationWarning: Starting with ImageIO v3 the behavior of this function will switch to that of iio.v3.imread. To keep the current behavior (and make this warning disappear) use `import imageio.v2 as imageio` or call `imageio.v2.imread` directly.\n",
      "  images.append(imageio.imread(temp_image))\n",
      "C:\\Users\\c.kwa\\AppData\\Local\\Temp\\ipykernel_10352\\1939745950.py:46: DeprecationWarning: Starting with ImageIO v3 the behavior of this function will switch to that of iio.v3.imread. To keep the current behavior (and make this warning disappear) use `import imageio.v2 as imageio` or call `imageio.v2.imread` directly.\n",
      "  images.append(imageio.imread(temp_image))\n",
      "C:\\Users\\c.kwa\\AppData\\Local\\Temp\\ipykernel_10352\\1939745950.py:46: DeprecationWarning: Starting with ImageIO v3 the behavior of this function will switch to that of iio.v3.imread. To keep the current behavior (and make this warning disappear) use `import imageio.v2 as imageio` or call `imageio.v2.imread` directly.\n",
      "  images.append(imageio.imread(temp_image))\n",
      "C:\\Users\\c.kwa\\AppData\\Local\\Temp\\ipykernel_10352\\1939745950.py:46: DeprecationWarning: Starting with ImageIO v3 the behavior of this function will switch to that of iio.v3.imread. To keep the current behavior (and make this warning disappear) use `import imageio.v2 as imageio` or call `imageio.v2.imread` directly.\n",
      "  images.append(imageio.imread(temp_image))\n",
      "C:\\Users\\c.kwa\\AppData\\Local\\Temp\\ipykernel_10352\\1939745950.py:46: DeprecationWarning: Starting with ImageIO v3 the behavior of this function will switch to that of iio.v3.imread. To keep the current behavior (and make this warning disappear) use `import imageio.v2 as imageio` or call `imageio.v2.imread` directly.\n",
      "  images.append(imageio.imread(temp_image))\n",
      "C:\\Users\\c.kwa\\AppData\\Local\\Temp\\ipykernel_10352\\1939745950.py:46: DeprecationWarning: Starting with ImageIO v3 the behavior of this function will switch to that of iio.v3.imread. To keep the current behavior (and make this warning disappear) use `import imageio.v2 as imageio` or call `imageio.v2.imread` directly.\n",
      "  images.append(imageio.imread(temp_image))\n",
      "C:\\Users\\c.kwa\\AppData\\Local\\Temp\\ipykernel_10352\\1939745950.py:46: DeprecationWarning: Starting with ImageIO v3 the behavior of this function will switch to that of iio.v3.imread. To keep the current behavior (and make this warning disappear) use `import imageio.v2 as imageio` or call `imageio.v2.imread` directly.\n",
      "  images.append(imageio.imread(temp_image))\n",
      "C:\\Users\\c.kwa\\AppData\\Local\\Temp\\ipykernel_10352\\1939745950.py:46: DeprecationWarning: Starting with ImageIO v3 the behavior of this function will switch to that of iio.v3.imread. To keep the current behavior (and make this warning disappear) use `import imageio.v2 as imageio` or call `imageio.v2.imread` directly.\n",
      "  images.append(imageio.imread(temp_image))\n",
      "C:\\Users\\c.kwa\\AppData\\Local\\Temp\\ipykernel_10352\\1939745950.py:46: DeprecationWarning: Starting with ImageIO v3 the behavior of this function will switch to that of iio.v3.imread. To keep the current behavior (and make this warning disappear) use `import imageio.v2 as imageio` or call `imageio.v2.imread` directly.\n",
      "  images.append(imageio.imread(temp_image))\n",
      "C:\\Users\\c.kwa\\AppData\\Local\\Temp\\ipykernel_10352\\1939745950.py:46: DeprecationWarning: Starting with ImageIO v3 the behavior of this function will switch to that of iio.v3.imread. To keep the current behavior (and make this warning disappear) use `import imageio.v2 as imageio` or call `imageio.v2.imread` directly.\n",
      "  images.append(imageio.imread(temp_image))\n",
      "C:\\Users\\c.kwa\\AppData\\Local\\Temp\\ipykernel_10352\\1939745950.py:46: DeprecationWarning: Starting with ImageIO v3 the behavior of this function will switch to that of iio.v3.imread. To keep the current behavior (and make this warning disappear) use `import imageio.v2 as imageio` or call `imageio.v2.imread` directly.\n",
      "  images.append(imageio.imread(temp_image))\n",
      "C:\\Users\\c.kwa\\AppData\\Local\\Temp\\ipykernel_10352\\1939745950.py:46: DeprecationWarning: Starting with ImageIO v3 the behavior of this function will switch to that of iio.v3.imread. To keep the current behavior (and make this warning disappear) use `import imageio.v2 as imageio` or call `imageio.v2.imread` directly.\n",
      "  images.append(imageio.imread(temp_image))\n",
      "C:\\Users\\c.kwa\\AppData\\Local\\Temp\\ipykernel_10352\\1939745950.py:46: DeprecationWarning: Starting with ImageIO v3 the behavior of this function will switch to that of iio.v3.imread. To keep the current behavior (and make this warning disappear) use `import imageio.v2 as imageio` or call `imageio.v2.imread` directly.\n",
      "  images.append(imageio.imread(temp_image))\n",
      "C:\\Users\\c.kwa\\AppData\\Local\\Temp\\ipykernel_10352\\1939745950.py:46: DeprecationWarning: Starting with ImageIO v3 the behavior of this function will switch to that of iio.v3.imread. To keep the current behavior (and make this warning disappear) use `import imageio.v2 as imageio` or call `imageio.v2.imread` directly.\n",
      "  images.append(imageio.imread(temp_image))\n",
      "C:\\Users\\c.kwa\\AppData\\Local\\Temp\\ipykernel_10352\\1939745950.py:46: DeprecationWarning: Starting with ImageIO v3 the behavior of this function will switch to that of iio.v3.imread. To keep the current behavior (and make this warning disappear) use `import imageio.v2 as imageio` or call `imageio.v2.imread` directly.\n",
      "  images.append(imageio.imread(temp_image))\n",
      "C:\\Users\\c.kwa\\AppData\\Local\\Temp\\ipykernel_10352\\1939745950.py:46: DeprecationWarning: Starting with ImageIO v3 the behavior of this function will switch to that of iio.v3.imread. To keep the current behavior (and make this warning disappear) use `import imageio.v2 as imageio` or call `imageio.v2.imread` directly.\n",
      "  images.append(imageio.imread(temp_image))\n",
      "C:\\Users\\c.kwa\\AppData\\Local\\Temp\\ipykernel_10352\\1939745950.py:46: DeprecationWarning: Starting with ImageIO v3 the behavior of this function will switch to that of iio.v3.imread. To keep the current behavior (and make this warning disappear) use `import imageio.v2 as imageio` or call `imageio.v2.imread` directly.\n",
      "  images.append(imageio.imread(temp_image))\n",
      "C:\\Users\\c.kwa\\AppData\\Local\\Temp\\ipykernel_10352\\1939745950.py:46: DeprecationWarning: Starting with ImageIO v3 the behavior of this function will switch to that of iio.v3.imread. To keep the current behavior (and make this warning disappear) use `import imageio.v2 as imageio` or call `imageio.v2.imread` directly.\n",
      "  images.append(imageio.imread(temp_image))\n"
     ]
    }
   ],
   "source": [
    "# Example usage\n",
    "generate_gif_model(\n",
    "    model_dir= \"D:/Ghana/Output_data/experiments_adapted129/repotest/testOutput\", #\"D:/Ghana/Output_data/experiments_adapted130/repotest/testOutput\", #\n",
    "    date=\"20221007\",\n",
    "    time_range=(14, 23),\n",
    "    variable_name = 'y_hat',\n",
    "    output_gif = 'Model_MSE_Akim_Oda_zoom.gif',\n",
    "    plot_tahmo=True,\n",
    "    plot_gmet=True, \n",
    "    tahmo_stations = ['TA00302', 'TA00045'], \n",
    "    gmet_stations = ['Akosombo', 'Akuse', 'Akim_Oda'],\n",
    "    # lat_bounds=(np.min(lat_model), np.max(lat_model)),\n",
    "    # lon_bounds=(np.min(lon_model), np.max(lon_model))\n",
    "    lat_bounds=(5.8, 6.6),\n",
    "    lon_bounds=(-1.2, 0.4)\n",
    ")"
   ]
  },
  {
   "cell_type": "code",
   "execution_count": 26,
   "id": "2cc21812-02e5-4009-82f8-c614aaad2bce",
   "metadata": {},
   "outputs": [
    {
     "name": "stdout",
     "output_type": "stream",
     "text": [
      "2022-05-21 14:00:00\n"
     ]
    },
    {
     "name": "stderr",
     "output_type": "stream",
     "text": [
      "C:\\Users\\c.kwa\\AppData\\Local\\Temp\\ipykernel_5068\\3370927687.py:20: DeprecationWarning: Starting with ImageIO v3 the behavior of this function will switch to that of iio.v3.imread. To keep the current behavior (and make this warning disappear) use `import imageio.v2 as imageio` or call `imageio.v2.imread` directly.\n",
      "  images.append(imageio.imread(temp_image))\n"
     ]
    },
    {
     "name": "stdout",
     "output_type": "stream",
     "text": [
      "2022-05-21 14:30:00\n"
     ]
    },
    {
     "name": "stderr",
     "output_type": "stream",
     "text": [
      "C:\\Users\\c.kwa\\AppData\\Local\\Temp\\ipykernel_5068\\3370927687.py:20: DeprecationWarning: Starting with ImageIO v3 the behavior of this function will switch to that of iio.v3.imread. To keep the current behavior (and make this warning disappear) use `import imageio.v2 as imageio` or call `imageio.v2.imread` directly.\n",
      "  images.append(imageio.imread(temp_image))\n"
     ]
    },
    {
     "name": "stdout",
     "output_type": "stream",
     "text": [
      "2022-05-21 15:00:00\n"
     ]
    },
    {
     "name": "stderr",
     "output_type": "stream",
     "text": [
      "C:\\Users\\c.kwa\\AppData\\Local\\Temp\\ipykernel_5068\\3370927687.py:20: DeprecationWarning: Starting with ImageIO v3 the behavior of this function will switch to that of iio.v3.imread. To keep the current behavior (and make this warning disappear) use `import imageio.v2 as imageio` or call `imageio.v2.imread` directly.\n",
      "  images.append(imageio.imread(temp_image))\n"
     ]
    },
    {
     "name": "stdout",
     "output_type": "stream",
     "text": [
      "2022-05-21 15:30:00\n"
     ]
    },
    {
     "name": "stderr",
     "output_type": "stream",
     "text": [
      "C:\\Users\\c.kwa\\AppData\\Local\\Temp\\ipykernel_5068\\3370927687.py:20: DeprecationWarning: Starting with ImageIO v3 the behavior of this function will switch to that of iio.v3.imread. To keep the current behavior (and make this warning disappear) use `import imageio.v2 as imageio` or call `imageio.v2.imread` directly.\n",
      "  images.append(imageio.imread(temp_image))\n"
     ]
    },
    {
     "name": "stdout",
     "output_type": "stream",
     "text": [
      "2022-05-21 16:00:00\n"
     ]
    },
    {
     "name": "stderr",
     "output_type": "stream",
     "text": [
      "C:\\Users\\c.kwa\\AppData\\Local\\Temp\\ipykernel_5068\\3370927687.py:20: DeprecationWarning: Starting with ImageIO v3 the behavior of this function will switch to that of iio.v3.imread. To keep the current behavior (and make this warning disappear) use `import imageio.v2 as imageio` or call `imageio.v2.imread` directly.\n",
      "  images.append(imageio.imread(temp_image))\n"
     ]
    },
    {
     "name": "stdout",
     "output_type": "stream",
     "text": [
      "2022-05-21 16:30:00\n"
     ]
    },
    {
     "name": "stderr",
     "output_type": "stream",
     "text": [
      "C:\\Users\\c.kwa\\AppData\\Local\\Temp\\ipykernel_5068\\3370927687.py:20: DeprecationWarning: Starting with ImageIO v3 the behavior of this function will switch to that of iio.v3.imread. To keep the current behavior (and make this warning disappear) use `import imageio.v2 as imageio` or call `imageio.v2.imread` directly.\n",
      "  images.append(imageio.imread(temp_image))\n"
     ]
    },
    {
     "name": "stdout",
     "output_type": "stream",
     "text": [
      "2022-05-21 17:00:00\n"
     ]
    },
    {
     "name": "stderr",
     "output_type": "stream",
     "text": [
      "C:\\Users\\c.kwa\\AppData\\Local\\Temp\\ipykernel_5068\\3370927687.py:20: DeprecationWarning: Starting with ImageIO v3 the behavior of this function will switch to that of iio.v3.imread. To keep the current behavior (and make this warning disappear) use `import imageio.v2 as imageio` or call `imageio.v2.imread` directly.\n",
      "  images.append(imageio.imread(temp_image))\n"
     ]
    },
    {
     "name": "stdout",
     "output_type": "stream",
     "text": [
      "2022-05-21 17:30:00\n"
     ]
    },
    {
     "name": "stderr",
     "output_type": "stream",
     "text": [
      "C:\\Users\\c.kwa\\AppData\\Local\\Temp\\ipykernel_5068\\3370927687.py:20: DeprecationWarning: Starting with ImageIO v3 the behavior of this function will switch to that of iio.v3.imread. To keep the current behavior (and make this warning disappear) use `import imageio.v2 as imageio` or call `imageio.v2.imread` directly.\n",
      "  images.append(imageio.imread(temp_image))\n"
     ]
    },
    {
     "name": "stdout",
     "output_type": "stream",
     "text": [
      "2022-05-21 18:00:00\n"
     ]
    },
    {
     "name": "stderr",
     "output_type": "stream",
     "text": [
      "C:\\Users\\c.kwa\\AppData\\Local\\Temp\\ipykernel_5068\\3370927687.py:20: DeprecationWarning: Starting with ImageIO v3 the behavior of this function will switch to that of iio.v3.imread. To keep the current behavior (and make this warning disappear) use `import imageio.v2 as imageio` or call `imageio.v2.imread` directly.\n",
      "  images.append(imageio.imread(temp_image))\n"
     ]
    },
    {
     "name": "stdout",
     "output_type": "stream",
     "text": [
      "2022-05-21 18:30:00\n"
     ]
    },
    {
     "name": "stderr",
     "output_type": "stream",
     "text": [
      "C:\\Users\\c.kwa\\AppData\\Local\\Temp\\ipykernel_5068\\3370927687.py:20: DeprecationWarning: Starting with ImageIO v3 the behavior of this function will switch to that of iio.v3.imread. To keep the current behavior (and make this warning disappear) use `import imageio.v2 as imageio` or call `imageio.v2.imread` directly.\n",
      "  images.append(imageio.imread(temp_image))\n"
     ]
    },
    {
     "name": "stdout",
     "output_type": "stream",
     "text": [
      "2022-05-21 19:00:00\n"
     ]
    },
    {
     "name": "stderr",
     "output_type": "stream",
     "text": [
      "C:\\Users\\c.kwa\\AppData\\Local\\Temp\\ipykernel_5068\\3370927687.py:20: DeprecationWarning: Starting with ImageIO v3 the behavior of this function will switch to that of iio.v3.imread. To keep the current behavior (and make this warning disappear) use `import imageio.v2 as imageio` or call `imageio.v2.imread` directly.\n",
      "  images.append(imageio.imread(temp_image))\n"
     ]
    },
    {
     "name": "stdout",
     "output_type": "stream",
     "text": [
      "2022-05-21 19:30:00\n"
     ]
    },
    {
     "name": "stderr",
     "output_type": "stream",
     "text": [
      "C:\\Users\\c.kwa\\AppData\\Local\\Temp\\ipykernel_5068\\3370927687.py:20: DeprecationWarning: Starting with ImageIO v3 the behavior of this function will switch to that of iio.v3.imread. To keep the current behavior (and make this warning disappear) use `import imageio.v2 as imageio` or call `imageio.v2.imread` directly.\n",
      "  images.append(imageio.imread(temp_image))\n"
     ]
    },
    {
     "name": "stdout",
     "output_type": "stream",
     "text": [
      "2022-05-21 20:00:00\n"
     ]
    },
    {
     "name": "stderr",
     "output_type": "stream",
     "text": [
      "C:\\Users\\c.kwa\\AppData\\Local\\Temp\\ipykernel_5068\\3370927687.py:20: DeprecationWarning: Starting with ImageIO v3 the behavior of this function will switch to that of iio.v3.imread. To keep the current behavior (and make this warning disappear) use `import imageio.v2 as imageio` or call `imageio.v2.imread` directly.\n",
      "  images.append(imageio.imread(temp_image))\n"
     ]
    },
    {
     "name": "stdout",
     "output_type": "stream",
     "text": [
      "2022-05-21 20:30:00\n"
     ]
    },
    {
     "name": "stderr",
     "output_type": "stream",
     "text": [
      "C:\\Users\\c.kwa\\AppData\\Local\\Temp\\ipykernel_5068\\3370927687.py:20: DeprecationWarning: Starting with ImageIO v3 the behavior of this function will switch to that of iio.v3.imread. To keep the current behavior (and make this warning disappear) use `import imageio.v2 as imageio` or call `imageio.v2.imread` directly.\n",
      "  images.append(imageio.imread(temp_image))\n"
     ]
    },
    {
     "name": "stdout",
     "output_type": "stream",
     "text": [
      "2022-05-21 21:00:00\n"
     ]
    },
    {
     "name": "stderr",
     "output_type": "stream",
     "text": [
      "C:\\Users\\c.kwa\\AppData\\Local\\Temp\\ipykernel_5068\\3370927687.py:20: DeprecationWarning: Starting with ImageIO v3 the behavior of this function will switch to that of iio.v3.imread. To keep the current behavior (and make this warning disappear) use `import imageio.v2 as imageio` or call `imageio.v2.imread` directly.\n",
      "  images.append(imageio.imread(temp_image))\n"
     ]
    },
    {
     "name": "stdout",
     "output_type": "stream",
     "text": [
      "2022-05-21 21:30:00\n"
     ]
    },
    {
     "name": "stderr",
     "output_type": "stream",
     "text": [
      "C:\\Users\\c.kwa\\AppData\\Local\\Temp\\ipykernel_5068\\3370927687.py:20: DeprecationWarning: Starting with ImageIO v3 the behavior of this function will switch to that of iio.v3.imread. To keep the current behavior (and make this warning disappear) use `import imageio.v2 as imageio` or call `imageio.v2.imread` directly.\n",
      "  images.append(imageio.imread(temp_image))\n"
     ]
    },
    {
     "name": "stdout",
     "output_type": "stream",
     "text": [
      "2022-05-21 22:00:00\n"
     ]
    },
    {
     "name": "stderr",
     "output_type": "stream",
     "text": [
      "C:\\Users\\c.kwa\\AppData\\Local\\Temp\\ipykernel_5068\\3370927687.py:20: DeprecationWarning: Starting with ImageIO v3 the behavior of this function will switch to that of iio.v3.imread. To keep the current behavior (and make this warning disappear) use `import imageio.v2 as imageio` or call `imageio.v2.imread` directly.\n",
      "  images.append(imageio.imread(temp_image))\n"
     ]
    },
    {
     "name": "stdout",
     "output_type": "stream",
     "text": [
      "2022-05-21 22:30:00\n"
     ]
    },
    {
     "name": "stderr",
     "output_type": "stream",
     "text": [
      "C:\\Users\\c.kwa\\AppData\\Local\\Temp\\ipykernel_5068\\3370927687.py:20: DeprecationWarning: Starting with ImageIO v3 the behavior of this function will switch to that of iio.v3.imread. To keep the current behavior (and make this warning disappear) use `import imageio.v2 as imageio` or call `imageio.v2.imread` directly.\n",
      "  images.append(imageio.imread(temp_image))\n"
     ]
    },
    {
     "name": "stdout",
     "output_type": "stream",
     "text": [
      "2022-05-21 23:00:00\n"
     ]
    },
    {
     "name": "stderr",
     "output_type": "stream",
     "text": [
      "C:\\Users\\c.kwa\\AppData\\Local\\Temp\\ipykernel_5068\\3370927687.py:20: DeprecationWarning: Starting with ImageIO v3 the behavior of this function will switch to that of iio.v3.imread. To keep the current behavior (and make this warning disappear) use `import imageio.v2 as imageio` or call `imageio.v2.imread` directly.\n",
      "  images.append(imageio.imread(temp_image))\n"
     ]
    },
    {
     "name": "stdout",
     "output_type": "stream",
     "text": [
      "2022-05-21 23:30:00\n"
     ]
    },
    {
     "name": "stderr",
     "output_type": "stream",
     "text": [
      "C:\\Users\\c.kwa\\AppData\\Local\\Temp\\ipykernel_5068\\3370927687.py:20: DeprecationWarning: Starting with ImageIO v3 the behavior of this function will switch to that of iio.v3.imread. To keep the current behavior (and make this warning disappear) use `import imageio.v2 as imageio` or call `imageio.v2.imread` directly.\n",
      "  images.append(imageio.imread(temp_image))\n"
     ]
    }
   ],
   "source": [
    "# Example usage\n",
    "generate_gif_imerg(\n",
    "    imerg_dir= \"D:/Ghana/IMERG_data/GPM/RS/V07/IMERG/IMERG-FR\", #\"D:/Ghana/IMERG_data/GPM/NRT/IMERG/IMERG-ER\", #\"D:/Ghana/IMERG_data/GPM/NRT/IMERG/IMERG-ER\", #\"\n",
    "    date=\"20220521\",\n",
    "    time_range=(14, 23),\n",
    "    dataset_path = 'Grid/precipitation',\n",
    "    version='C',\n",
    "    output_gif = 'imerg_final_Accra.gif',\n",
    "    plot_tahmo=True,\n",
    "    plot_gmet=True, \n",
    "    tahmo_stations = ['TA00016', 'TA00391', 'TA00118'], \n",
    "    gmet_stations = ['Tema'],\n",
    "    lat_bounds=(np.min(lat_model), np.max(lat_model)),\n",
    "    lon_bounds=(np.min(lon_model), np.max(lon_model))\n",
    "    # lat_bounds=(5.6, 6),\n",
    "    # lon_bounds=(-0.5, 0.3)\n",
    ")"
   ]
  },
  {
   "cell_type": "code",
   "execution_count": 22,
   "id": "eb1a491e-4f6d-49f2-88d9-079adeb98d73",
   "metadata": {},
   "outputs": [
    {
     "name": "stderr",
     "output_type": "stream",
     "text": [
      "C:\\Users\\c.kwa\\AppData\\Local\\Temp\\ipykernel_10352\\1939745950.py:46: DeprecationWarning: Starting with ImageIO v3 the behavior of this function will switch to that of iio.v3.imread. To keep the current behavior (and make this warning disappear) use `import imageio.v2 as imageio` or call `imageio.v2.imread` directly.\n",
      "  images.append(imageio.imread(temp_image))\n",
      "C:\\Users\\c.kwa\\AppData\\Local\\Temp\\ipykernel_10352\\1939745950.py:46: DeprecationWarning: Starting with ImageIO v3 the behavior of this function will switch to that of iio.v3.imread. To keep the current behavior (and make this warning disappear) use `import imageio.v2 as imageio` or call `imageio.v2.imread` directly.\n",
      "  images.append(imageio.imread(temp_image))\n",
      "C:\\Users\\c.kwa\\AppData\\Local\\Temp\\ipykernel_10352\\1939745950.py:46: DeprecationWarning: Starting with ImageIO v3 the behavior of this function will switch to that of iio.v3.imread. To keep the current behavior (and make this warning disappear) use `import imageio.v2 as imageio` or call `imageio.v2.imread` directly.\n",
      "  images.append(imageio.imread(temp_image))\n",
      "C:\\Users\\c.kwa\\AppData\\Local\\Temp\\ipykernel_10352\\1939745950.py:46: DeprecationWarning: Starting with ImageIO v3 the behavior of this function will switch to that of iio.v3.imread. To keep the current behavior (and make this warning disappear) use `import imageio.v2 as imageio` or call `imageio.v2.imread` directly.\n",
      "  images.append(imageio.imread(temp_image))\n",
      "C:\\Users\\c.kwa\\AppData\\Local\\Temp\\ipykernel_10352\\1939745950.py:46: DeprecationWarning: Starting with ImageIO v3 the behavior of this function will switch to that of iio.v3.imread. To keep the current behavior (and make this warning disappear) use `import imageio.v2 as imageio` or call `imageio.v2.imread` directly.\n",
      "  images.append(imageio.imread(temp_image))\n",
      "C:\\Users\\c.kwa\\AppData\\Local\\Temp\\ipykernel_10352\\1939745950.py:46: DeprecationWarning: Starting with ImageIO v3 the behavior of this function will switch to that of iio.v3.imread. To keep the current behavior (and make this warning disappear) use `import imageio.v2 as imageio` or call `imageio.v2.imread` directly.\n",
      "  images.append(imageio.imread(temp_image))\n",
      "C:\\Users\\c.kwa\\AppData\\Local\\Temp\\ipykernel_10352\\1939745950.py:46: DeprecationWarning: Starting with ImageIO v3 the behavior of this function will switch to that of iio.v3.imread. To keep the current behavior (and make this warning disappear) use `import imageio.v2 as imageio` or call `imageio.v2.imread` directly.\n",
      "  images.append(imageio.imread(temp_image))\n",
      "C:\\Users\\c.kwa\\AppData\\Local\\Temp\\ipykernel_10352\\1939745950.py:46: DeprecationWarning: Starting with ImageIO v3 the behavior of this function will switch to that of iio.v3.imread. To keep the current behavior (and make this warning disappear) use `import imageio.v2 as imageio` or call `imageio.v2.imread` directly.\n",
      "  images.append(imageio.imread(temp_image))\n",
      "C:\\Users\\c.kwa\\AppData\\Local\\Temp\\ipykernel_10352\\1939745950.py:46: DeprecationWarning: Starting with ImageIO v3 the behavior of this function will switch to that of iio.v3.imread. To keep the current behavior (and make this warning disappear) use `import imageio.v2 as imageio` or call `imageio.v2.imread` directly.\n",
      "  images.append(imageio.imread(temp_image))\n",
      "C:\\Users\\c.kwa\\AppData\\Local\\Temp\\ipykernel_10352\\1939745950.py:46: DeprecationWarning: Starting with ImageIO v3 the behavior of this function will switch to that of iio.v3.imread. To keep the current behavior (and make this warning disappear) use `import imageio.v2 as imageio` or call `imageio.v2.imread` directly.\n",
      "  images.append(imageio.imread(temp_image))\n",
      "C:\\Users\\c.kwa\\AppData\\Local\\Temp\\ipykernel_10352\\1939745950.py:46: DeprecationWarning: Starting with ImageIO v3 the behavior of this function will switch to that of iio.v3.imread. To keep the current behavior (and make this warning disappear) use `import imageio.v2 as imageio` or call `imageio.v2.imread` directly.\n",
      "  images.append(imageio.imread(temp_image))\n",
      "C:\\Users\\c.kwa\\AppData\\Local\\Temp\\ipykernel_10352\\1939745950.py:46: DeprecationWarning: Starting with ImageIO v3 the behavior of this function will switch to that of iio.v3.imread. To keep the current behavior (and make this warning disappear) use `import imageio.v2 as imageio` or call `imageio.v2.imread` directly.\n",
      "  images.append(imageio.imread(temp_image))\n",
      "C:\\Users\\c.kwa\\AppData\\Local\\Temp\\ipykernel_10352\\1939745950.py:46: DeprecationWarning: Starting with ImageIO v3 the behavior of this function will switch to that of iio.v3.imread. To keep the current behavior (and make this warning disappear) use `import imageio.v2 as imageio` or call `imageio.v2.imread` directly.\n",
      "  images.append(imageio.imread(temp_image))\n",
      "C:\\Users\\c.kwa\\AppData\\Local\\Temp\\ipykernel_10352\\1939745950.py:46: DeprecationWarning: Starting with ImageIO v3 the behavior of this function will switch to that of iio.v3.imread. To keep the current behavior (and make this warning disappear) use `import imageio.v2 as imageio` or call `imageio.v2.imread` directly.\n",
      "  images.append(imageio.imread(temp_image))\n",
      "C:\\Users\\c.kwa\\AppData\\Local\\Temp\\ipykernel_10352\\1939745950.py:46: DeprecationWarning: Starting with ImageIO v3 the behavior of this function will switch to that of iio.v3.imread. To keep the current behavior (and make this warning disappear) use `import imageio.v2 as imageio` or call `imageio.v2.imread` directly.\n",
      "  images.append(imageio.imread(temp_image))\n",
      "C:\\Users\\c.kwa\\AppData\\Local\\Temp\\ipykernel_10352\\1939745950.py:46: DeprecationWarning: Starting with ImageIO v3 the behavior of this function will switch to that of iio.v3.imread. To keep the current behavior (and make this warning disappear) use `import imageio.v2 as imageio` or call `imageio.v2.imread` directly.\n",
      "  images.append(imageio.imread(temp_image))\n",
      "C:\\Users\\c.kwa\\AppData\\Local\\Temp\\ipykernel_10352\\1939745950.py:46: DeprecationWarning: Starting with ImageIO v3 the behavior of this function will switch to that of iio.v3.imread. To keep the current behavior (and make this warning disappear) use `import imageio.v2 as imageio` or call `imageio.v2.imread` directly.\n",
      "  images.append(imageio.imread(temp_image))\n",
      "C:\\Users\\c.kwa\\AppData\\Local\\Temp\\ipykernel_10352\\1939745950.py:46: DeprecationWarning: Starting with ImageIO v3 the behavior of this function will switch to that of iio.v3.imread. To keep the current behavior (and make this warning disappear) use `import imageio.v2 as imageio` or call `imageio.v2.imread` directly.\n",
      "  images.append(imageio.imread(temp_image))\n",
      "C:\\Users\\c.kwa\\AppData\\Local\\Temp\\ipykernel_10352\\1939745950.py:46: DeprecationWarning: Starting with ImageIO v3 the behavior of this function will switch to that of iio.v3.imread. To keep the current behavior (and make this warning disappear) use `import imageio.v2 as imageio` or call `imageio.v2.imread` directly.\n",
      "  images.append(imageio.imread(temp_image))\n",
      "C:\\Users\\c.kwa\\AppData\\Local\\Temp\\ipykernel_10352\\1939745950.py:46: DeprecationWarning: Starting with ImageIO v3 the behavior of this function will switch to that of iio.v3.imread. To keep the current behavior (and make this warning disappear) use `import imageio.v2 as imageio` or call `imageio.v2.imread` directly.\n",
      "  images.append(imageio.imread(temp_image))\n"
     ]
    }
   ],
   "source": [
    "# Example usage\n",
    "generate_gif_model(\n",
    "    model_dir= \"D:/Ghana/Output_data/experiments_adapted129/repotest/testOutput\", #\"D:/Ghana/Output_data/experiments_adapted130/repotest/testOutput\", # \n",
    "    date=\"20220521\",\n",
    "    time_range=(14, 23),\n",
    "    variable_name = 'y_hat',\n",
    "    output_gif = 'Model_MSE_Accra.gif',\n",
    "    plot_tahmo=True,\n",
    "    plot_gmet=True, \n",
    "    tahmo_stations = ['TA00016', 'TA00391', 'TA00118'], \n",
    "    gmet_stations = ['Tema'],\n",
    "    lat_bounds=(np.min(lat_model), np.max(lat_model)),\n",
    "    lon_bounds=(np.min(lon_model), np.max(lon_model))\n",
    "    # lat_bounds=(5.6, 6),\n",
    "    # lon_bounds=(-0.5, 0.3)\n",
    ")"
   ]
  },
  {
   "cell_type": "code",
   "execution_count": 22,
   "id": "efe1240e-a293-4129-9c8c-4a7a1dd3620d",
   "metadata": {},
   "outputs": [
    {
     "name": "stderr",
     "output_type": "stream",
     "text": [
      "C:\\Users\\c.kwa\\AppData\\Local\\Temp\\ipykernel_5068\\3370927687.py:46: DeprecationWarning: Starting with ImageIO v3 the behavior of this function will switch to that of iio.v3.imread. To keep the current behavior (and make this warning disappear) use `import imageio.v2 as imageio` or call `imageio.v2.imread` directly.\n",
      "  images.append(imageio.imread(temp_image))\n",
      "C:\\Users\\c.kwa\\AppData\\Local\\Temp\\ipykernel_5068\\3370927687.py:46: DeprecationWarning: Starting with ImageIO v3 the behavior of this function will switch to that of iio.v3.imread. To keep the current behavior (and make this warning disappear) use `import imageio.v2 as imageio` or call `imageio.v2.imread` directly.\n",
      "  images.append(imageio.imread(temp_image))\n",
      "C:\\Users\\c.kwa\\AppData\\Local\\Temp\\ipykernel_5068\\3370927687.py:46: DeprecationWarning: Starting with ImageIO v3 the behavior of this function will switch to that of iio.v3.imread. To keep the current behavior (and make this warning disappear) use `import imageio.v2 as imageio` or call `imageio.v2.imread` directly.\n",
      "  images.append(imageio.imread(temp_image))\n",
      "C:\\Users\\c.kwa\\AppData\\Local\\Temp\\ipykernel_5068\\3370927687.py:46: DeprecationWarning: Starting with ImageIO v3 the behavior of this function will switch to that of iio.v3.imread. To keep the current behavior (and make this warning disappear) use `import imageio.v2 as imageio` or call `imageio.v2.imread` directly.\n",
      "  images.append(imageio.imread(temp_image))\n",
      "C:\\Users\\c.kwa\\AppData\\Local\\Temp\\ipykernel_5068\\3370927687.py:46: DeprecationWarning: Starting with ImageIO v3 the behavior of this function will switch to that of iio.v3.imread. To keep the current behavior (and make this warning disappear) use `import imageio.v2 as imageio` or call `imageio.v2.imread` directly.\n",
      "  images.append(imageio.imread(temp_image))\n",
      "C:\\Users\\c.kwa\\AppData\\Local\\Temp\\ipykernel_5068\\3370927687.py:46: DeprecationWarning: Starting with ImageIO v3 the behavior of this function will switch to that of iio.v3.imread. To keep the current behavior (and make this warning disappear) use `import imageio.v2 as imageio` or call `imageio.v2.imread` directly.\n",
      "  images.append(imageio.imread(temp_image))\n",
      "C:\\Users\\c.kwa\\AppData\\Local\\Temp\\ipykernel_5068\\3370927687.py:46: DeprecationWarning: Starting with ImageIO v3 the behavior of this function will switch to that of iio.v3.imread. To keep the current behavior (and make this warning disappear) use `import imageio.v2 as imageio` or call `imageio.v2.imread` directly.\n",
      "  images.append(imageio.imread(temp_image))\n",
      "C:\\Users\\c.kwa\\AppData\\Local\\Temp\\ipykernel_5068\\3370927687.py:46: DeprecationWarning: Starting with ImageIO v3 the behavior of this function will switch to that of iio.v3.imread. To keep the current behavior (and make this warning disappear) use `import imageio.v2 as imageio` or call `imageio.v2.imread` directly.\n",
      "  images.append(imageio.imread(temp_image))\n",
      "C:\\Users\\c.kwa\\AppData\\Local\\Temp\\ipykernel_5068\\3370927687.py:46: DeprecationWarning: Starting with ImageIO v3 the behavior of this function will switch to that of iio.v3.imread. To keep the current behavior (and make this warning disappear) use `import imageio.v2 as imageio` or call `imageio.v2.imread` directly.\n",
      "  images.append(imageio.imread(temp_image))\n",
      "C:\\Users\\c.kwa\\AppData\\Local\\Temp\\ipykernel_5068\\3370927687.py:46: DeprecationWarning: Starting with ImageIO v3 the behavior of this function will switch to that of iio.v3.imread. To keep the current behavior (and make this warning disappear) use `import imageio.v2 as imageio` or call `imageio.v2.imread` directly.\n",
      "  images.append(imageio.imread(temp_image))\n",
      "C:\\Users\\c.kwa\\AppData\\Local\\Temp\\ipykernel_5068\\3370927687.py:46: DeprecationWarning: Starting with ImageIO v3 the behavior of this function will switch to that of iio.v3.imread. To keep the current behavior (and make this warning disappear) use `import imageio.v2 as imageio` or call `imageio.v2.imread` directly.\n",
      "  images.append(imageio.imread(temp_image))\n",
      "C:\\Users\\c.kwa\\AppData\\Local\\Temp\\ipykernel_5068\\3370927687.py:46: DeprecationWarning: Starting with ImageIO v3 the behavior of this function will switch to that of iio.v3.imread. To keep the current behavior (and make this warning disappear) use `import imageio.v2 as imageio` or call `imageio.v2.imread` directly.\n",
      "  images.append(imageio.imread(temp_image))\n",
      "C:\\Users\\c.kwa\\AppData\\Local\\Temp\\ipykernel_5068\\3370927687.py:46: DeprecationWarning: Starting with ImageIO v3 the behavior of this function will switch to that of iio.v3.imread. To keep the current behavior (and make this warning disappear) use `import imageio.v2 as imageio` or call `imageio.v2.imread` directly.\n",
      "  images.append(imageio.imread(temp_image))\n",
      "C:\\Users\\c.kwa\\AppData\\Local\\Temp\\ipykernel_5068\\3370927687.py:46: DeprecationWarning: Starting with ImageIO v3 the behavior of this function will switch to that of iio.v3.imread. To keep the current behavior (and make this warning disappear) use `import imageio.v2 as imageio` or call `imageio.v2.imread` directly.\n",
      "  images.append(imageio.imread(temp_image))\n",
      "C:\\Users\\c.kwa\\AppData\\Local\\Temp\\ipykernel_5068\\3370927687.py:46: DeprecationWarning: Starting with ImageIO v3 the behavior of this function will switch to that of iio.v3.imread. To keep the current behavior (and make this warning disappear) use `import imageio.v2 as imageio` or call `imageio.v2.imread` directly.\n",
      "  images.append(imageio.imread(temp_image))\n",
      "C:\\Users\\c.kwa\\AppData\\Local\\Temp\\ipykernel_5068\\3370927687.py:46: DeprecationWarning: Starting with ImageIO v3 the behavior of this function will switch to that of iio.v3.imread. To keep the current behavior (and make this warning disappear) use `import imageio.v2 as imageio` or call `imageio.v2.imread` directly.\n",
      "  images.append(imageio.imread(temp_image))\n",
      "C:\\Users\\c.kwa\\AppData\\Local\\Temp\\ipykernel_5068\\3370927687.py:46: DeprecationWarning: Starting with ImageIO v3 the behavior of this function will switch to that of iio.v3.imread. To keep the current behavior (and make this warning disappear) use `import imageio.v2 as imageio` or call `imageio.v2.imread` directly.\n",
      "  images.append(imageio.imread(temp_image))\n",
      "C:\\Users\\c.kwa\\AppData\\Local\\Temp\\ipykernel_5068\\3370927687.py:46: DeprecationWarning: Starting with ImageIO v3 the behavior of this function will switch to that of iio.v3.imread. To keep the current behavior (and make this warning disappear) use `import imageio.v2 as imageio` or call `imageio.v2.imread` directly.\n",
      "  images.append(imageio.imread(temp_image))\n",
      "C:\\Users\\c.kwa\\AppData\\Local\\Temp\\ipykernel_5068\\3370927687.py:46: DeprecationWarning: Starting with ImageIO v3 the behavior of this function will switch to that of iio.v3.imread. To keep the current behavior (and make this warning disappear) use `import imageio.v2 as imageio` or call `imageio.v2.imread` directly.\n",
      "  images.append(imageio.imread(temp_image))\n",
      "C:\\Users\\c.kwa\\AppData\\Local\\Temp\\ipykernel_5068\\3370927687.py:46: DeprecationWarning: Starting with ImageIO v3 the behavior of this function will switch to that of iio.v3.imread. To keep the current behavior (and make this warning disappear) use `import imageio.v2 as imageio` or call `imageio.v2.imread` directly.\n",
      "  images.append(imageio.imread(temp_image))\n"
     ]
    }
   ],
   "source": [
    "# Example usage\n",
    "generate_gif_model(\n",
    "    model_dir= \"D:/Ghana/Output_data/experiments_adapted130/repotest/testOutput\", #\"D:/Ghana/Output_data/experiments_adapted129/repotest/testOutput\",  \n",
    "    date=\"20220424\",\n",
    "    time_range=(14, 23),\n",
    "    variable_name = 'y_hat',\n",
    "    output_gif = 'Model_balanced_Axim.gif',\n",
    "    plot_tahmo=True,\n",
    "    plot_gmet=True, \n",
    "    tahmo_stations = ['TA00120', 'TA00121'], \n",
    "    gmet_stations = ['Axim'],\n",
    "    lat_bounds=(np.min(lat_model), np.max(lat_model)),\n",
    "    lon_bounds=(np.min(lon_model), np.max(lon_model))\n",
    "    # lat_bounds=(4.5, 5.2),\n",
    "    # lon_bounds=(-3, -1)\n",
    ")"
   ]
  },
  {
   "cell_type": "code",
   "execution_count": 32,
   "id": "aeaa80b5-709f-44df-9a73-b9cca62d8165",
   "metadata": {},
   "outputs": [
    {
     "name": "stdout",
     "output_type": "stream",
     "text": [
      "2022-04-24 14:00:00\n"
     ]
    },
    {
     "name": "stderr",
     "output_type": "stream",
     "text": [
      "C:\\Users\\c.kwa\\AppData\\Local\\Temp\\ipykernel_5068\\3370927687.py:20: DeprecationWarning: Starting with ImageIO v3 the behavior of this function will switch to that of iio.v3.imread. To keep the current behavior (and make this warning disappear) use `import imageio.v2 as imageio` or call `imageio.v2.imread` directly.\n",
      "  images.append(imageio.imread(temp_image))\n"
     ]
    },
    {
     "name": "stdout",
     "output_type": "stream",
     "text": [
      "2022-04-24 14:30:00\n"
     ]
    },
    {
     "name": "stderr",
     "output_type": "stream",
     "text": [
      "C:\\Users\\c.kwa\\AppData\\Local\\Temp\\ipykernel_5068\\3370927687.py:20: DeprecationWarning: Starting with ImageIO v3 the behavior of this function will switch to that of iio.v3.imread. To keep the current behavior (and make this warning disappear) use `import imageio.v2 as imageio` or call `imageio.v2.imread` directly.\n",
      "  images.append(imageio.imread(temp_image))\n"
     ]
    },
    {
     "name": "stdout",
     "output_type": "stream",
     "text": [
      "2022-04-24 15:00:00\n"
     ]
    },
    {
     "name": "stderr",
     "output_type": "stream",
     "text": [
      "C:\\Users\\c.kwa\\AppData\\Local\\Temp\\ipykernel_5068\\3370927687.py:20: DeprecationWarning: Starting with ImageIO v3 the behavior of this function will switch to that of iio.v3.imread. To keep the current behavior (and make this warning disappear) use `import imageio.v2 as imageio` or call `imageio.v2.imread` directly.\n",
      "  images.append(imageio.imread(temp_image))\n"
     ]
    },
    {
     "name": "stdout",
     "output_type": "stream",
     "text": [
      "2022-04-24 15:30:00\n"
     ]
    },
    {
     "name": "stderr",
     "output_type": "stream",
     "text": [
      "C:\\Users\\c.kwa\\AppData\\Local\\Temp\\ipykernel_5068\\3370927687.py:20: DeprecationWarning: Starting with ImageIO v3 the behavior of this function will switch to that of iio.v3.imread. To keep the current behavior (and make this warning disappear) use `import imageio.v2 as imageio` or call `imageio.v2.imread` directly.\n",
      "  images.append(imageio.imread(temp_image))\n"
     ]
    },
    {
     "name": "stdout",
     "output_type": "stream",
     "text": [
      "2022-04-24 16:00:00\n"
     ]
    },
    {
     "name": "stderr",
     "output_type": "stream",
     "text": [
      "C:\\Users\\c.kwa\\AppData\\Local\\Temp\\ipykernel_5068\\3370927687.py:20: DeprecationWarning: Starting with ImageIO v3 the behavior of this function will switch to that of iio.v3.imread. To keep the current behavior (and make this warning disappear) use `import imageio.v2 as imageio` or call `imageio.v2.imread` directly.\n",
      "  images.append(imageio.imread(temp_image))\n"
     ]
    },
    {
     "name": "stdout",
     "output_type": "stream",
     "text": [
      "2022-04-24 16:30:00\n"
     ]
    },
    {
     "name": "stderr",
     "output_type": "stream",
     "text": [
      "C:\\Users\\c.kwa\\AppData\\Local\\Temp\\ipykernel_5068\\3370927687.py:20: DeprecationWarning: Starting with ImageIO v3 the behavior of this function will switch to that of iio.v3.imread. To keep the current behavior (and make this warning disappear) use `import imageio.v2 as imageio` or call `imageio.v2.imread` directly.\n",
      "  images.append(imageio.imread(temp_image))\n"
     ]
    },
    {
     "name": "stdout",
     "output_type": "stream",
     "text": [
      "2022-04-24 17:00:00\n"
     ]
    },
    {
     "name": "stderr",
     "output_type": "stream",
     "text": [
      "C:\\Users\\c.kwa\\AppData\\Local\\Temp\\ipykernel_5068\\3370927687.py:20: DeprecationWarning: Starting with ImageIO v3 the behavior of this function will switch to that of iio.v3.imread. To keep the current behavior (and make this warning disappear) use `import imageio.v2 as imageio` or call `imageio.v2.imread` directly.\n",
      "  images.append(imageio.imread(temp_image))\n"
     ]
    },
    {
     "name": "stdout",
     "output_type": "stream",
     "text": [
      "2022-04-24 17:30:00\n"
     ]
    },
    {
     "name": "stderr",
     "output_type": "stream",
     "text": [
      "C:\\Users\\c.kwa\\AppData\\Local\\Temp\\ipykernel_5068\\3370927687.py:20: DeprecationWarning: Starting with ImageIO v3 the behavior of this function will switch to that of iio.v3.imread. To keep the current behavior (and make this warning disappear) use `import imageio.v2 as imageio` or call `imageio.v2.imread` directly.\n",
      "  images.append(imageio.imread(temp_image))\n"
     ]
    },
    {
     "name": "stdout",
     "output_type": "stream",
     "text": [
      "2022-04-24 18:00:00\n"
     ]
    },
    {
     "name": "stderr",
     "output_type": "stream",
     "text": [
      "C:\\Users\\c.kwa\\AppData\\Local\\Temp\\ipykernel_5068\\3370927687.py:20: DeprecationWarning: Starting with ImageIO v3 the behavior of this function will switch to that of iio.v3.imread. To keep the current behavior (and make this warning disappear) use `import imageio.v2 as imageio` or call `imageio.v2.imread` directly.\n",
      "  images.append(imageio.imread(temp_image))\n"
     ]
    },
    {
     "name": "stdout",
     "output_type": "stream",
     "text": [
      "2022-04-24 18:30:00\n"
     ]
    },
    {
     "name": "stderr",
     "output_type": "stream",
     "text": [
      "C:\\Users\\c.kwa\\AppData\\Local\\Temp\\ipykernel_5068\\3370927687.py:20: DeprecationWarning: Starting with ImageIO v3 the behavior of this function will switch to that of iio.v3.imread. To keep the current behavior (and make this warning disappear) use `import imageio.v2 as imageio` or call `imageio.v2.imread` directly.\n",
      "  images.append(imageio.imread(temp_image))\n"
     ]
    },
    {
     "name": "stdout",
     "output_type": "stream",
     "text": [
      "2022-04-24 19:00:00\n"
     ]
    },
    {
     "name": "stderr",
     "output_type": "stream",
     "text": [
      "C:\\Users\\c.kwa\\AppData\\Local\\Temp\\ipykernel_5068\\3370927687.py:20: DeprecationWarning: Starting with ImageIO v3 the behavior of this function will switch to that of iio.v3.imread. To keep the current behavior (and make this warning disappear) use `import imageio.v2 as imageio` or call `imageio.v2.imread` directly.\n",
      "  images.append(imageio.imread(temp_image))\n"
     ]
    },
    {
     "name": "stdout",
     "output_type": "stream",
     "text": [
      "2022-04-24 19:30:00\n"
     ]
    },
    {
     "name": "stderr",
     "output_type": "stream",
     "text": [
      "C:\\Users\\c.kwa\\AppData\\Local\\Temp\\ipykernel_5068\\3370927687.py:20: DeprecationWarning: Starting with ImageIO v3 the behavior of this function will switch to that of iio.v3.imread. To keep the current behavior (and make this warning disappear) use `import imageio.v2 as imageio` or call `imageio.v2.imread` directly.\n",
      "  images.append(imageio.imread(temp_image))\n"
     ]
    },
    {
     "name": "stdout",
     "output_type": "stream",
     "text": [
      "2022-04-24 20:00:00\n"
     ]
    },
    {
     "name": "stderr",
     "output_type": "stream",
     "text": [
      "C:\\Users\\c.kwa\\AppData\\Local\\Temp\\ipykernel_5068\\3370927687.py:20: DeprecationWarning: Starting with ImageIO v3 the behavior of this function will switch to that of iio.v3.imread. To keep the current behavior (and make this warning disappear) use `import imageio.v2 as imageio` or call `imageio.v2.imread` directly.\n",
      "  images.append(imageio.imread(temp_image))\n"
     ]
    },
    {
     "name": "stdout",
     "output_type": "stream",
     "text": [
      "2022-04-24 20:30:00\n"
     ]
    },
    {
     "name": "stderr",
     "output_type": "stream",
     "text": [
      "C:\\Users\\c.kwa\\AppData\\Local\\Temp\\ipykernel_5068\\3370927687.py:20: DeprecationWarning: Starting with ImageIO v3 the behavior of this function will switch to that of iio.v3.imread. To keep the current behavior (and make this warning disappear) use `import imageio.v2 as imageio` or call `imageio.v2.imread` directly.\n",
      "  images.append(imageio.imread(temp_image))\n"
     ]
    },
    {
     "name": "stdout",
     "output_type": "stream",
     "text": [
      "2022-04-24 21:00:00\n"
     ]
    },
    {
     "name": "stderr",
     "output_type": "stream",
     "text": [
      "C:\\Users\\c.kwa\\AppData\\Local\\Temp\\ipykernel_5068\\3370927687.py:20: DeprecationWarning: Starting with ImageIO v3 the behavior of this function will switch to that of iio.v3.imread. To keep the current behavior (and make this warning disappear) use `import imageio.v2 as imageio` or call `imageio.v2.imread` directly.\n",
      "  images.append(imageio.imread(temp_image))\n"
     ]
    },
    {
     "name": "stdout",
     "output_type": "stream",
     "text": [
      "2022-04-24 21:30:00\n"
     ]
    },
    {
     "name": "stderr",
     "output_type": "stream",
     "text": [
      "C:\\Users\\c.kwa\\AppData\\Local\\Temp\\ipykernel_5068\\3370927687.py:20: DeprecationWarning: Starting with ImageIO v3 the behavior of this function will switch to that of iio.v3.imread. To keep the current behavior (and make this warning disappear) use `import imageio.v2 as imageio` or call `imageio.v2.imread` directly.\n",
      "  images.append(imageio.imread(temp_image))\n"
     ]
    },
    {
     "name": "stdout",
     "output_type": "stream",
     "text": [
      "2022-04-24 22:00:00\n"
     ]
    },
    {
     "name": "stderr",
     "output_type": "stream",
     "text": [
      "C:\\Users\\c.kwa\\AppData\\Local\\Temp\\ipykernel_5068\\3370927687.py:20: DeprecationWarning: Starting with ImageIO v3 the behavior of this function will switch to that of iio.v3.imread. To keep the current behavior (and make this warning disappear) use `import imageio.v2 as imageio` or call `imageio.v2.imread` directly.\n",
      "  images.append(imageio.imread(temp_image))\n"
     ]
    },
    {
     "name": "stdout",
     "output_type": "stream",
     "text": [
      "2022-04-24 22:30:00\n"
     ]
    },
    {
     "name": "stderr",
     "output_type": "stream",
     "text": [
      "C:\\Users\\c.kwa\\AppData\\Local\\Temp\\ipykernel_5068\\3370927687.py:20: DeprecationWarning: Starting with ImageIO v3 the behavior of this function will switch to that of iio.v3.imread. To keep the current behavior (and make this warning disappear) use `import imageio.v2 as imageio` or call `imageio.v2.imread` directly.\n",
      "  images.append(imageio.imread(temp_image))\n"
     ]
    },
    {
     "name": "stdout",
     "output_type": "stream",
     "text": [
      "2022-04-24 23:00:00\n"
     ]
    },
    {
     "name": "stderr",
     "output_type": "stream",
     "text": [
      "C:\\Users\\c.kwa\\AppData\\Local\\Temp\\ipykernel_5068\\3370927687.py:20: DeprecationWarning: Starting with ImageIO v3 the behavior of this function will switch to that of iio.v3.imread. To keep the current behavior (and make this warning disappear) use `import imageio.v2 as imageio` or call `imageio.v2.imread` directly.\n",
      "  images.append(imageio.imread(temp_image))\n"
     ]
    },
    {
     "name": "stdout",
     "output_type": "stream",
     "text": [
      "2022-04-24 23:30:00\n"
     ]
    },
    {
     "name": "stderr",
     "output_type": "stream",
     "text": [
      "C:\\Users\\c.kwa\\AppData\\Local\\Temp\\ipykernel_5068\\3370927687.py:20: DeprecationWarning: Starting with ImageIO v3 the behavior of this function will switch to that of iio.v3.imread. To keep the current behavior (and make this warning disappear) use `import imageio.v2 as imageio` or call `imageio.v2.imread` directly.\n",
      "  images.append(imageio.imread(temp_image))\n"
     ]
    }
   ],
   "source": [
    "# Example usage\n",
    "generate_gif_imerg(\n",
    "    imerg_dir= \"D:/Ghana/IMERG_data/GPM/NRT/IMERG/IMERG-ER\", #\"D:/Ghana/IMERG_data/GPM/RS/V07/IMERG/IMERG-FR\", #\"D:/Ghana/IMERG_data/GPM/NRT/IMERG/IMERG-ER\", #\"\n",
    "    date= \"20220424\",\n",
    "    time_range=(14, 23),\n",
    "    dataset_path = 'Grid/precipitationCal',\n",
    "    version='B',\n",
    "    output_gif = 'imerg_early_Axim.gif',\n",
    "    plot_tahmo=True,\n",
    "    plot_gmet=True, \n",
    "    tahmo_stations = ['TA00120', 'TA00121'], \n",
    "    gmet_stations = ['Axim'],\n",
    "    lat_bounds=(np.min(lat_model), np.max(lat_model)),\n",
    "    lon_bounds=(np.min(lon_model), np.max(lon_model))\n",
    "    # lat_bounds=(4.5, 5.2),\n",
    "    # lon_bounds=(-3, -1)\n",
    ")"
   ]
  }
 ],
 "metadata": {
  "kernelspec": {
   "display_name": "Python 3 (ipykernel)",
   "language": "python",
   "name": "python3"
  },
  "language_info": {
   "codemirror_mode": {
    "name": "ipython",
    "version": 3
   },
   "file_extension": ".py",
   "mimetype": "text/x-python",
   "name": "python",
   "nbconvert_exporter": "python",
   "pygments_lexer": "ipython3",
   "version": "3.12.5"
  }
 },
 "nbformat": 4,
 "nbformat_minor": 5
}
